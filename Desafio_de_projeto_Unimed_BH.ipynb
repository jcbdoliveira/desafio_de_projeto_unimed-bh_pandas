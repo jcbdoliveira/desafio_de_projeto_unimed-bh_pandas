{
  "nbformat": 4,
  "nbformat_minor": 0,
  "metadata": {
    "colab": {
      "provenance": [],
      "collapsed_sections": [],
      "mount_file_id": "1s37tsxPB8-vYAU32Xv8XVHWMMjgbLiMH",
      "authorship_tag": "ABX9TyM+xXgtNX+FGdo6EQY6QJBu",
      "include_colab_link": true
    },
    "kernelspec": {
      "name": "python3",
      "display_name": "Python 3"
    },
    "language_info": {
      "name": "python"
    }
  },
  "cells": [
    {
      "cell_type": "markdown",
      "metadata": {
        "id": "view-in-github",
        "colab_type": "text"
      },
      "source": [
        "<a href=\"https://colab.research.google.com/github/jcbdoliveira/desafrio_de_projeto_unimed-bh_pandas/blob/main/Desafio_de_projeto_Unimed_BH.ipynb\" target=\"_parent\"><img src=\"https://colab.research.google.com/assets/colab-badge.svg\" alt=\"Open In Colab\"/></a>"
      ]
    },
    {
      "cell_type": "markdown",
      "source": [
        "> Olá, este projeto de treino tem como objetivo explorar uma base de dados de vendas.\n",
        "Os dados foram obitidos do site [Kaggle](https://www.kaggle.com/datasets). Este site prôve vários dataset de dados abertos que são uma ótima opção de treino e aperfeiçoamento de habilidades.\n",
        "Neste projeto vou analisar as vendas de produtos, segmentando por clientes, grupos e categorias.\n",
        "\n",
        "**Roteiro da análise:**\n",
        "\n",
        "1.   Definir escopo, para saber as linhas e colunas\n",
        "2.   Testar a base para encontar dados nulos e tratar se necessário\n",
        "3.   Remover colunas desnecessárias\n",
        "4.   Analisar campos chaves da tabela para evitar distorções e análise falha.\n",
        "5.   Identificar o período de tempo para análise\n",
        "6.   Responder as questões abaixo:\n",
        "     *   Qual faturamento total\n",
        "     *   Qual faturamento por ano\n",
        "     *   Qual faturamento por: estado, cidade e região\n",
        "     *   Qual custo de nvio por tipo\n",
        "     *   Prazo médio de envio\n",
        "     *   Margem de contribuição da venda por estado, cidade e região\n",
        "     *   Top 10 produtos vendidos em quantidade e venda\n",
        "     *   \n",
        "\n"
      ],
      "metadata": {
        "id": "uuDWiAoWOAtD"
      }
    },
    {
      "cell_type": "code",
      "execution_count": 36,
      "metadata": {
        "id": "EzwNtW_IGqb2"
      },
      "outputs": [],
      "source": [
        "import pandas as pd\n",
        "import matplotlib.pyplot as plt\n",
        "import datetime as dt\n",
        "df = pd.read_csv(\"sales.csv\")"
      ]
    },
    {
      "cell_type": "markdown",
      "source": [
        "\n",
        "1.   Definir escopo, para saber as linhas e colunas"
      ],
      "metadata": {
        "id": "E6Bg1NcwVKR1"
      }
    },
    {
      "cell_type": "code",
      "source": [
        "#Método utilizado para mostrar os primeiros registros da base\n",
        "df.head()"
      ],
      "metadata": {
        "id": "6LVIc6hvNUAu",
        "colab": {
          "base_uri": "https://localhost:8080/",
          "height": 681
        },
        "outputId": "c1828037-bd52-4900-9e93-f6630b4ba78c"
      },
      "execution_count": 37,
      "outputs": [
        {
          "output_type": "execute_result",
          "data": {
            "text/plain": [
              "   Unnamed: 0  Row ID  Order ID Data da Venda        Prioridade  Quantidade  \\\n",
              "0           0     674      4706    2012-12-28  Não Especificada          30   \n",
              "1           1     816      5891    2012-12-28             Média           2   \n",
              "2           2    1876     13507    2012-12-29             Média          27   \n",
              "3           3    3583     25542    2012-12-30             Baixa          37   \n",
              "4           4    4008     28611    2012-12-27             Baixa          30   \n",
              "\n",
              "   Valor da Venda  Desconto Forma de Envio     Lucro  ...      Estado  \\\n",
              "0         2116.70      0.02   Aéreo Normal   488.818  ...  Pernambuco   \n",
              "1           44.45      0.01   Aéreo Normal   -17.457  ...     Paraíba   \n",
              "2          176.10      0.09   Aéreo Normal   -75.710  ...        Pará   \n",
              "3          257.46      0.09   Aéreo Rápido   -18.660  ...       Goiás   \n",
              "4        15337.58      0.10   Aéreo Normal  6670.409  ...   São Paulo   \n",
              "\n",
              "         Região    País Segmento do Cliente    Categoria do Produto  \\\n",
              "0      Nordeste  Brasil   Pequenas Empresas  Material de Escritório   \n",
              "1      Nordeste  Brasil  Escritório em Casa  Material de Escritório   \n",
              "2         Norte  Brasil   Pequenas Empresas  Material de Escritório   \n",
              "3  Centro-Oeste  Brasil  Escritório em Casa  Material de Escritório   \n",
              "4       Sudeste  Brasil          Consumidor  Material de Escritório   \n",
              "\n",
              "  Sub-Categoria do Produto                                    Nome do Produto  \\\n",
              "0       Capas e Acessórios               Catalog Binders with Expanding Posts   \n",
              "1       Capas e Acessórios                          Avery Legal 4-Ring Binder   \n",
              "2                    Papel                       Strathmore Photo Mount Cards   \n",
              "3                    Papel  Black Print Carbonless 8 1/2\" x 8 1/4\" Rapid M...   \n",
              "4       Capas e Acessórios          GBC DocuBind 300 Electric Binding Machine   \n",
              "\n",
              "   Embalagem Margem Data de Envio  \n",
              "0  Small Box   0.40    2012-12-30  \n",
              "1  Small Box   0.35    2012-12-30  \n",
              "2  Small Box   0.39    2012-12-30  \n",
              "3   Wrap Bag   0.39    2012-12-30  \n",
              "4  Small Box   0.37    2012-12-30  \n",
              "\n",
              "[5 rows x 25 columns]"
            ],
            "text/html": [
              "\n",
              "  <div id=\"df-46805655-25b1-46c3-9c13-a5e9fd9805dd\">\n",
              "    <div class=\"colab-df-container\">\n",
              "      <div>\n",
              "<style scoped>\n",
              "    .dataframe tbody tr th:only-of-type {\n",
              "        vertical-align: middle;\n",
              "    }\n",
              "\n",
              "    .dataframe tbody tr th {\n",
              "        vertical-align: top;\n",
              "    }\n",
              "\n",
              "    .dataframe thead th {\n",
              "        text-align: right;\n",
              "    }\n",
              "</style>\n",
              "<table border=\"1\" class=\"dataframe\">\n",
              "  <thead>\n",
              "    <tr style=\"text-align: right;\">\n",
              "      <th></th>\n",
              "      <th>Unnamed: 0</th>\n",
              "      <th>Row ID</th>\n",
              "      <th>Order ID</th>\n",
              "      <th>Data da Venda</th>\n",
              "      <th>Prioridade</th>\n",
              "      <th>Quantidade</th>\n",
              "      <th>Valor da Venda</th>\n",
              "      <th>Desconto</th>\n",
              "      <th>Forma de Envio</th>\n",
              "      <th>Lucro</th>\n",
              "      <th>...</th>\n",
              "      <th>Estado</th>\n",
              "      <th>Região</th>\n",
              "      <th>País</th>\n",
              "      <th>Segmento do Cliente</th>\n",
              "      <th>Categoria do Produto</th>\n",
              "      <th>Sub-Categoria do Produto</th>\n",
              "      <th>Nome do Produto</th>\n",
              "      <th>Embalagem</th>\n",
              "      <th>Margem</th>\n",
              "      <th>Data de Envio</th>\n",
              "    </tr>\n",
              "  </thead>\n",
              "  <tbody>\n",
              "    <tr>\n",
              "      <th>0</th>\n",
              "      <td>0</td>\n",
              "      <td>674</td>\n",
              "      <td>4706</td>\n",
              "      <td>2012-12-28</td>\n",
              "      <td>Não Especificada</td>\n",
              "      <td>30</td>\n",
              "      <td>2116.70</td>\n",
              "      <td>0.02</td>\n",
              "      <td>Aéreo Normal</td>\n",
              "      <td>488.818</td>\n",
              "      <td>...</td>\n",
              "      <td>Pernambuco</td>\n",
              "      <td>Nordeste</td>\n",
              "      <td>Brasil</td>\n",
              "      <td>Pequenas Empresas</td>\n",
              "      <td>Material de Escritório</td>\n",
              "      <td>Capas e Acessórios</td>\n",
              "      <td>Catalog Binders with Expanding Posts</td>\n",
              "      <td>Small Box</td>\n",
              "      <td>0.40</td>\n",
              "      <td>2012-12-30</td>\n",
              "    </tr>\n",
              "    <tr>\n",
              "      <th>1</th>\n",
              "      <td>1</td>\n",
              "      <td>816</td>\n",
              "      <td>5891</td>\n",
              "      <td>2012-12-28</td>\n",
              "      <td>Média</td>\n",
              "      <td>2</td>\n",
              "      <td>44.45</td>\n",
              "      <td>0.01</td>\n",
              "      <td>Aéreo Normal</td>\n",
              "      <td>-17.457</td>\n",
              "      <td>...</td>\n",
              "      <td>Paraíba</td>\n",
              "      <td>Nordeste</td>\n",
              "      <td>Brasil</td>\n",
              "      <td>Escritório em Casa</td>\n",
              "      <td>Material de Escritório</td>\n",
              "      <td>Capas e Acessórios</td>\n",
              "      <td>Avery Legal 4-Ring Binder</td>\n",
              "      <td>Small Box</td>\n",
              "      <td>0.35</td>\n",
              "      <td>2012-12-30</td>\n",
              "    </tr>\n",
              "    <tr>\n",
              "      <th>2</th>\n",
              "      <td>2</td>\n",
              "      <td>1876</td>\n",
              "      <td>13507</td>\n",
              "      <td>2012-12-29</td>\n",
              "      <td>Média</td>\n",
              "      <td>27</td>\n",
              "      <td>176.10</td>\n",
              "      <td>0.09</td>\n",
              "      <td>Aéreo Normal</td>\n",
              "      <td>-75.710</td>\n",
              "      <td>...</td>\n",
              "      <td>Pará</td>\n",
              "      <td>Norte</td>\n",
              "      <td>Brasil</td>\n",
              "      <td>Pequenas Empresas</td>\n",
              "      <td>Material de Escritório</td>\n",
              "      <td>Papel</td>\n",
              "      <td>Strathmore Photo Mount Cards</td>\n",
              "      <td>Small Box</td>\n",
              "      <td>0.39</td>\n",
              "      <td>2012-12-30</td>\n",
              "    </tr>\n",
              "    <tr>\n",
              "      <th>3</th>\n",
              "      <td>3</td>\n",
              "      <td>3583</td>\n",
              "      <td>25542</td>\n",
              "      <td>2012-12-30</td>\n",
              "      <td>Baixa</td>\n",
              "      <td>37</td>\n",
              "      <td>257.46</td>\n",
              "      <td>0.09</td>\n",
              "      <td>Aéreo Rápido</td>\n",
              "      <td>-18.660</td>\n",
              "      <td>...</td>\n",
              "      <td>Goiás</td>\n",
              "      <td>Centro-Oeste</td>\n",
              "      <td>Brasil</td>\n",
              "      <td>Escritório em Casa</td>\n",
              "      <td>Material de Escritório</td>\n",
              "      <td>Papel</td>\n",
              "      <td>Black Print Carbonless 8 1/2\" x 8 1/4\" Rapid M...</td>\n",
              "      <td>Wrap Bag</td>\n",
              "      <td>0.39</td>\n",
              "      <td>2012-12-30</td>\n",
              "    </tr>\n",
              "    <tr>\n",
              "      <th>4</th>\n",
              "      <td>4</td>\n",
              "      <td>4008</td>\n",
              "      <td>28611</td>\n",
              "      <td>2012-12-27</td>\n",
              "      <td>Baixa</td>\n",
              "      <td>30</td>\n",
              "      <td>15337.58</td>\n",
              "      <td>0.10</td>\n",
              "      <td>Aéreo Normal</td>\n",
              "      <td>6670.409</td>\n",
              "      <td>...</td>\n",
              "      <td>São Paulo</td>\n",
              "      <td>Sudeste</td>\n",
              "      <td>Brasil</td>\n",
              "      <td>Consumidor</td>\n",
              "      <td>Material de Escritório</td>\n",
              "      <td>Capas e Acessórios</td>\n",
              "      <td>GBC DocuBind 300 Electric Binding Machine</td>\n",
              "      <td>Small Box</td>\n",
              "      <td>0.37</td>\n",
              "      <td>2012-12-30</td>\n",
              "    </tr>\n",
              "  </tbody>\n",
              "</table>\n",
              "<p>5 rows × 25 columns</p>\n",
              "</div>\n",
              "      <button class=\"colab-df-convert\" onclick=\"convertToInteractive('df-46805655-25b1-46c3-9c13-a5e9fd9805dd')\"\n",
              "              title=\"Convert this dataframe to an interactive table.\"\n",
              "              style=\"display:none;\">\n",
              "        \n",
              "  <svg xmlns=\"http://www.w3.org/2000/svg\" height=\"24px\"viewBox=\"0 0 24 24\"\n",
              "       width=\"24px\">\n",
              "    <path d=\"M0 0h24v24H0V0z\" fill=\"none\"/>\n",
              "    <path d=\"M18.56 5.44l.94 2.06.94-2.06 2.06-.94-2.06-.94-.94-2.06-.94 2.06-2.06.94zm-11 1L8.5 8.5l.94-2.06 2.06-.94-2.06-.94L8.5 2.5l-.94 2.06-2.06.94zm10 10l.94 2.06.94-2.06 2.06-.94-2.06-.94-.94-2.06-.94 2.06-2.06.94z\"/><path d=\"M17.41 7.96l-1.37-1.37c-.4-.4-.92-.59-1.43-.59-.52 0-1.04.2-1.43.59L10.3 9.45l-7.72 7.72c-.78.78-.78 2.05 0 2.83L4 21.41c.39.39.9.59 1.41.59.51 0 1.02-.2 1.41-.59l7.78-7.78 2.81-2.81c.8-.78.8-2.07 0-2.86zM5.41 20L4 18.59l7.72-7.72 1.47 1.35L5.41 20z\"/>\n",
              "  </svg>\n",
              "      </button>\n",
              "      \n",
              "  <style>\n",
              "    .colab-df-container {\n",
              "      display:flex;\n",
              "      flex-wrap:wrap;\n",
              "      gap: 12px;\n",
              "    }\n",
              "\n",
              "    .colab-df-convert {\n",
              "      background-color: #E8F0FE;\n",
              "      border: none;\n",
              "      border-radius: 50%;\n",
              "      cursor: pointer;\n",
              "      display: none;\n",
              "      fill: #1967D2;\n",
              "      height: 32px;\n",
              "      padding: 0 0 0 0;\n",
              "      width: 32px;\n",
              "    }\n",
              "\n",
              "    .colab-df-convert:hover {\n",
              "      background-color: #E2EBFA;\n",
              "      box-shadow: 0px 1px 2px rgba(60, 64, 67, 0.3), 0px 1px 3px 1px rgba(60, 64, 67, 0.15);\n",
              "      fill: #174EA6;\n",
              "    }\n",
              "\n",
              "    [theme=dark] .colab-df-convert {\n",
              "      background-color: #3B4455;\n",
              "      fill: #D2E3FC;\n",
              "    }\n",
              "\n",
              "    [theme=dark] .colab-df-convert:hover {\n",
              "      background-color: #434B5C;\n",
              "      box-shadow: 0px 1px 3px 1px rgba(0, 0, 0, 0.15);\n",
              "      filter: drop-shadow(0px 1px 2px rgba(0, 0, 0, 0.3));\n",
              "      fill: #FFFFFF;\n",
              "    }\n",
              "  </style>\n",
              "\n",
              "      <script>\n",
              "        const buttonEl =\n",
              "          document.querySelector('#df-46805655-25b1-46c3-9c13-a5e9fd9805dd button.colab-df-convert');\n",
              "        buttonEl.style.display =\n",
              "          google.colab.kernel.accessAllowed ? 'block' : 'none';\n",
              "\n",
              "        async function convertToInteractive(key) {\n",
              "          const element = document.querySelector('#df-46805655-25b1-46c3-9c13-a5e9fd9805dd');\n",
              "          const dataTable =\n",
              "            await google.colab.kernel.invokeFunction('convertToInteractive',\n",
              "                                                     [key], {});\n",
              "          if (!dataTable) return;\n",
              "\n",
              "          const docLinkHtml = 'Like what you see? Visit the ' +\n",
              "            '<a target=\"_blank\" href=https://colab.research.google.com/notebooks/data_table.ipynb>data table notebook</a>'\n",
              "            + ' to learn more about interactive tables.';\n",
              "          element.innerHTML = '';\n",
              "          dataTable['output_type'] = 'display_data';\n",
              "          await google.colab.output.renderOutput(dataTable, element);\n",
              "          const docLink = document.createElement('div');\n",
              "          docLink.innerHTML = docLinkHtml;\n",
              "          element.appendChild(docLink);\n",
              "        }\n",
              "      </script>\n",
              "    </div>\n",
              "  </div>\n",
              "  "
            ]
          },
          "metadata": {},
          "execution_count": 37
        }
      ]
    },
    {
      "cell_type": "code",
      "source": [
        "#Utilizado para ler as quantidades de linha e coluna\n",
        "df.shape"
      ],
      "metadata": {
        "id": "QbxFqxwzME7x",
        "colab": {
          "base_uri": "https://localhost:8080/"
        },
        "outputId": "a881df10-dc1d-4a6f-c32c-9133ccc75b1b"
      },
      "execution_count": 38,
      "outputs": [
        {
          "output_type": "execute_result",
          "data": {
            "text/plain": [
              "(8399, 25)"
            ]
          },
          "metadata": {},
          "execution_count": 38
        }
      ]
    },
    {
      "cell_type": "code",
      "source": [
        "#Apresenta uma lista dos campos \n",
        "df.dtypes"
      ],
      "metadata": {
        "id": "AYH2ZZVWMPix",
        "colab": {
          "base_uri": "https://localhost:8080/"
        },
        "outputId": "9ad8734e-cfd5-4bcb-d2be-2709080127f4"
      },
      "execution_count": 39,
      "outputs": [
        {
          "output_type": "execute_result",
          "data": {
            "text/plain": [
              "Unnamed: 0                    int64\n",
              "Row ID                        int64\n",
              "Order ID                      int64\n",
              "Data da Venda                object\n",
              "Prioridade                   object\n",
              "Quantidade                    int64\n",
              "Valor da Venda              float64\n",
              "Desconto                    float64\n",
              "Forma de Envio               object\n",
              "Lucro                       float64\n",
              "Preço Unitário              float64\n",
              "Custo de Envio              float64\n",
              "Nome do Cliente              object\n",
              "Cidade                       object\n",
              "CEP                           int64\n",
              "Estado                       object\n",
              "Região                       object\n",
              "País                         object\n",
              "Segmento do Cliente          object\n",
              "Categoria do Produto         object\n",
              "Sub-Categoria do Produto     object\n",
              "Nome do Produto              object\n",
              "Embalagem                    object\n",
              "Margem                      float64\n",
              "Data de Envio                object\n",
              "dtype: object"
            ]
          },
          "metadata": {},
          "execution_count": 39
        }
      ]
    },
    {
      "cell_type": "markdown",
      "source": [
        "2.   Testar a base para encontar dados nulos e tratar se necessário"
      ],
      "metadata": {
        "id": "32CzO1WUWTfw"
      }
    },
    {
      "cell_type": "code",
      "source": [
        "#verificando valores nulos\n",
        "df.isnull().sum()"
      ],
      "metadata": {
        "id": "juJn_4kwRj9w",
        "colab": {
          "base_uri": "https://localhost:8080/"
        },
        "outputId": "c6da30b6-913d-460d-9d67-7b8345dffd0b"
      },
      "execution_count": 40,
      "outputs": [
        {
          "output_type": "execute_result",
          "data": {
            "text/plain": [
              "Unnamed: 0                   0\n",
              "Row ID                       0\n",
              "Order ID                     0\n",
              "Data da Venda                0\n",
              "Prioridade                   0\n",
              "Quantidade                   0\n",
              "Valor da Venda               0\n",
              "Desconto                     0\n",
              "Forma de Envio               0\n",
              "Lucro                        0\n",
              "Preço Unitário               0\n",
              "Custo de Envio               0\n",
              "Nome do Cliente              0\n",
              "Cidade                       0\n",
              "CEP                          0\n",
              "Estado                       0\n",
              "Região                       0\n",
              "País                         0\n",
              "Segmento do Cliente          0\n",
              "Categoria do Produto         0\n",
              "Sub-Categoria do Produto     0\n",
              "Nome do Produto              0\n",
              "Embalagem                    0\n",
              "Margem                      63\n",
              "Data de Envio                0\n",
              "dtype: int64"
            ]
          },
          "metadata": {},
          "execution_count": 40
        }
      ]
    },
    {
      "cell_type": "code",
      "source": [
        "#Substituindo os valores nulos pela média\n",
        "df[\"Margem\"].fillna(df[\"Margem\"].mean(), inplace=True)"
      ],
      "metadata": {
        "id": "ZS5PUWGZWhUG"
      },
      "execution_count": 41,
      "outputs": []
    },
    {
      "cell_type": "markdown",
      "source": [
        "3.   Remover colunas desnecessárias"
      ],
      "metadata": {
        "id": "_eIYTbVTW2rG"
      }
    },
    {
      "cell_type": "code",
      "source": [
        "#Removendo colunas não utilizdas na análise\n",
        "colunas_par_remocao = [\"Unnamed: 0\",\"Row ID\", \"Order ID\", \"Prioridade\"]\n",
        "df = df.drop(columns=colunas_par_remocao)"
      ],
      "metadata": {
        "id": "6kTZLvvkWWm1"
      },
      "execution_count": 42,
      "outputs": []
    },
    {
      "cell_type": "markdown",
      "source": [
        "4.   Analisar campos chaves da tabela para evitar distorções e análise falha."
      ],
      "metadata": {
        "id": "oCPChcgOXiuz"
      }
    },
    {
      "cell_type": "code",
      "source": [
        "#Validando as colunas \"valora da Venda\" e (quantidade * Preço unitário)\"\n",
        "#Se verdadeiro utilizamos coluna \"valor da venda\", caso contrário atualizamos os valores\n",
        "if not (df[\"Valor da Venda\"].sum() == (df[\"Quantidade\"].mul(df[\"Preço Unitário\"])).sum()):\n",
        "  df[\"Valor da Venda\"] = (df[\"Quantidade\"] * df[\"Preço Unitário\"])"
      ],
      "metadata": {
        "id": "d8MX1ykrUBGU"
      },
      "execution_count": 43,
      "outputs": []
    },
    {
      "cell_type": "code",
      "source": [
        "#Analisando a coluna lucro\n",
        "#A coluna \"Margem\" representa a margem de lucro  obtido na venda.\n",
        "#Desta forma  podemos validar a coluna comparando com a coluna  \"Valor da Venda\" multiplicado pela caoluna \"Margem\"\n",
        "#Se valores de amostra diferentes atualizamos o valor da coluna Lucro\n",
        "(df[\"Lucro\"] == df[\"Valor da Venda\"].mul(df[\"Margem\"])).sample(10)\n"
      ],
      "metadata": {
        "colab": {
          "base_uri": "https://localhost:8080/"
        },
        "id": "oNYgRNnDVyY-",
        "outputId": "a70e1f47-bfdd-4e53-8ab6-ec7662213283"
      },
      "execution_count": 44,
      "outputs": [
        {
          "output_type": "execute_result",
          "data": {
            "text/plain": [
              "7176    False\n",
              "870     False\n",
              "8261    False\n",
              "2707    False\n",
              "6880    False\n",
              "6248    False\n",
              "4200    False\n",
              "3034    False\n",
              "5781    False\n",
              "4012    False\n",
              "dtype: bool"
            ]
          },
          "metadata": {},
          "execution_count": 44
        }
      ]
    },
    {
      "cell_type": "code",
      "source": [
        "#O resultado foi que a coluna \"Lucro\" não representa o valor esperado.\n",
        "#Vamos corrigir a coluna com valores novos\n",
        "df[\"Lucro\"] = (df[\"Valor da Venda\"].mul(df[\"Margem\"]))"
      ],
      "metadata": {
        "id": "jhi4QF9JXeW8"
      },
      "execution_count": 45,
      "outputs": []
    },
    {
      "cell_type": "code",
      "source": [
        "#Refazendo análise da coluna \"Lucro\"\n",
        "(df[\"Lucro\"] == (df[\"Valor da Venda\"] * df[\"Margem\"])).sample(10)"
      ],
      "metadata": {
        "colab": {
          "base_uri": "https://localhost:8080/"
        },
        "id": "mwFKuzLfX3fV",
        "outputId": "85c90a1a-5d96-49b1-a22f-564ed53d23d9"
      },
      "execution_count": 46,
      "outputs": [
        {
          "output_type": "execute_result",
          "data": {
            "text/plain": [
              "2562    True\n",
              "1195    True\n",
              "445     True\n",
              "2472    True\n",
              "7169    True\n",
              "7050    True\n",
              "666     True\n",
              "6855    True\n",
              "6076    True\n",
              "1193    True\n",
              "dtype: bool"
            ]
          },
          "metadata": {},
          "execution_count": 46
        }
      ]
    },
    {
      "cell_type": "code",
      "source": [
        "#Para finalizar o campo \"Lucro\" vamos decontar o \"Custo de Envio\"\n",
        "df[\"Lucro\"] = (df[\"Lucro\"] - df[\"Custo de Envio\"])"
      ],
      "metadata": {
        "id": "jyJ_mrhYlo7c"
      },
      "execution_count": 73,
      "outputs": []
    },
    {
      "cell_type": "markdown",
      "source": [
        "5.   Identificar o período de tempo para análise\n"
      ],
      "metadata": {
        "id": "-e4vOJoTbFuC"
      }
    },
    {
      "cell_type": "code",
      "source": [
        "df[\"Data da Venda\"].min()"
      ],
      "metadata": {
        "colab": {
          "base_uri": "https://localhost:8080/",
          "height": 35
        },
        "id": "z2LKkQuJbPin",
        "outputId": "21146d94-8bf0-4b74-9cd7-ec38f2f46786"
      },
      "execution_count": 47,
      "outputs": [
        {
          "output_type": "execute_result",
          "data": {
            "text/plain": [
              "'2009-01-01'"
            ],
            "application/vnd.google.colaboratory.intrinsic+json": {
              "type": "string"
            }
          },
          "metadata": {},
          "execution_count": 47
        }
      ]
    },
    {
      "cell_type": "code",
      "source": [
        "df[\"Data da Venda\"].max()"
      ],
      "metadata": {
        "colab": {
          "base_uri": "https://localhost:8080/",
          "height": 35
        },
        "id": "VDpkN0yLcKQK",
        "outputId": "ffb7b3db-94b5-498e-ea74-88b499ca22bc"
      },
      "execution_count": 48,
      "outputs": [
        {
          "output_type": "execute_result",
          "data": {
            "text/plain": [
              "'2012-12-30'"
            ],
            "application/vnd.google.colaboratory.intrinsic+json": {
              "type": "string"
            }
          },
          "metadata": {},
          "execution_count": 48
        }
      ]
    },
    {
      "cell_type": "code",
      "source": [
        "df[\"Data da Venda\"] = pd.to_datetime(df[\"Data da Venda\"], errors=\"ignore\")"
      ],
      "metadata": {
        "id": "2zn7_LvbhF21"
      },
      "execution_count": 52,
      "outputs": []
    },
    {
      "cell_type": "markdown",
      "source": [
        " *   Qual faturamento total"
      ],
      "metadata": {
        "id": "25SGHR_1cnK1"
      }
    },
    {
      "cell_type": "code",
      "source": [
        "df[\"Valor da Venda\"].sum()"
      ],
      "metadata": {
        "colab": {
          "base_uri": "https://localhost:8080/"
        },
        "id": "1UoHOHvOYMJK",
        "outputId": "cce671d2-ace2-41c8-b5a3-9fc1bc9f4d11"
      },
      "execution_count": 49,
      "outputs": [
        {
          "output_type": "execute_result",
          "data": {
            "text/plain": [
              "15507174.95"
            ]
          },
          "metadata": {},
          "execution_count": 49
        }
      ]
    },
    {
      "cell_type": "markdown",
      "source": [
        "*   Qual faturamento por ano"
      ],
      "metadata": {
        "id": "7jsGhyzxc3B2"
      }
    },
    {
      "cell_type": "code",
      "source": [
        "df.groupby(df[\"Data da Venda\"].dt.year)['Valor da Venda'].sum()"
      ],
      "metadata": {
        "colab": {
          "base_uri": "https://localhost:8080/"
        },
        "id": "eTQ7l40Rc4R2",
        "outputId": "a757aaf1-4f35-4bfb-98c5-bf2bde9eaf03"
      },
      "execution_count": 53,
      "outputs": [
        {
          "output_type": "execute_result",
          "data": {
            "text/plain": [
              "Data da Venda\n",
              "2009    4355149.59\n",
              "2010    3685916.16\n",
              "2011    3597484.15\n",
              "2012    3868625.05\n",
              "Name: Valor da Venda, dtype: float64"
            ]
          },
          "metadata": {},
          "execution_count": 53
        }
      ]
    },
    {
      "cell_type": "code",
      "source": [
        "df.groupby(df[\"Data da Venda\"].dt.year)['Valor da Venda'].sum().plot.bar(title='Vendas por ano')\n",
        "plt.xlabel(\"Ano\")\n",
        "plt.ylabel(\"Vendas\");"
      ],
      "metadata": {
        "colab": {
          "base_uri": "https://localhost:8080/",
          "height": 311
        },
        "id": "i3meZ6HWhgfH",
        "outputId": "d184fdf2-a1f9-446c-a8a7-d4d8fab000be"
      },
      "execution_count": 58,
      "outputs": [
        {
          "output_type": "display_data",
          "data": {
            "text/plain": [
              "<Figure size 432x288 with 1 Axes>"
            ],
            "image/png": "[encoded data removed]"
          },
          "metadata": {
            "needs_background": "light"
          }
        }
      ]
    },
    {
      "cell_type": "markdown",
      "source": [
        "*   Qual faturamento por: estado, cidade e região"
      ],
      "metadata": {
        "id": "SJ0gLRgPiRkC"
      }
    },
    {
      "cell_type": "code",
      "source": [
        "df.groupby(df[\"Estado\"])['Valor da Venda'].sum().sort_values(ascending=False)"
      ],
      "metadata": {
        "colab": {
          "base_uri": "https://localhost:8080/"
        },
        "id": "UPYrqxI2iS73",
        "outputId": "3f83bc87-0504-4129-8ff8-c64346aa771a"
      },
      "execution_count": 60,
      "outputs": [
        {
          "output_type": "execute_result",
          "data": {
            "text/plain": [
              "Estado\n",
              "Goiás                  2952044.42\n",
              "São Paulo              2230965.72\n",
              "Pernambuco             1496889.09\n",
              "Paraná                 1345470.09\n",
              "Rio Grande do Sul      1251533.10\n",
              "Mato Grosso do Sul      836205.92\n",
              "Espírito Santo          705175.50\n",
              "Santa Catarina          688143.60\n",
              "Bahia                   650522.06\n",
              "Mato Grosso             469240.80\n",
              "Minas Gerais            372294.41\n",
              "Piauí                   342277.94\n",
              "Paraíba                 331935.71\n",
              "Alagoas                 263751.21\n",
              "Rio Grande do Norte     249471.83\n",
              "Tocantins               242414.13\n",
              "Rio de Janeiro          238693.80\n",
              "Sergipe                 235666.48\n",
              "Distrito Federal        194816.72\n",
              "Maranhão                160593.90\n",
              "Amazonas                107917.91\n",
              "Pará                     87540.93\n",
              "Ceará                    53609.68\n",
              "Name: Valor da Venda, dtype: float64"
            ]
          },
          "metadata": {},
          "execution_count": 60
        }
      ]
    },
    {
      "cell_type": "code",
      "source": [
        "df.groupby(df[\"Região\"])['Valor da Venda'].sum().sort_values(ascending=False).plot.pie();"
      ],
      "metadata": {
        "colab": {
          "base_uri": "https://localhost:8080/",
          "height": 248
        },
        "id": "voAUb7FXlCEP",
        "outputId": "512b4e68-ea96-42af-b2a0-87f60436252f"
      },
      "execution_count": 72,
      "outputs": [
        {
          "output_type": "display_data",
          "data": {
            "text/plain": [
              "<Figure size 432x288 with 1 Axes>"
            ],
            "image/png": "[encoded data removed]"
          },
          "metadata": {}
        }
      ]
    },
    {
      "cell_type": "code",
      "source": [
        "df.groupby([df[\"Região\"], df[\"Estado\"], df[\"Cidade\"]])['Valor da Venda'].sum()"
      ],
      "metadata": {
        "colab": {
          "base_uri": "https://localhost:8080/"
        },
        "id": "PEEDvRD8jSfN",
        "outputId": "955fd7d8-e463-422c-e88d-1cbcb3ab2b10"
      },
      "execution_count": 69,
      "outputs": [
        {
          "output_type": "execute_result",
          "data": {
            "text/plain": [
              "Região        Estado               Cidade             \n",
              "Centro-Oeste  Distrito Federal     Brasília                194816.72\n",
              "              Goiás                Alexânia                128969.03\n",
              "                                   Anápolis                997322.99\n",
              "                                   Caldas Novas             26885.00\n",
              "                                   Corumbá de Goiás        124119.04\n",
              "                                   Formosa                 577161.49\n",
              "                                   Goianésia               220740.27\n",
              "                                   Goiânia                 651706.88\n",
              "                                   Novo Gama               225139.72\n",
              "              Mato Grosso          Cuiabá                  469240.80\n",
              "              Mato Grosso do Sul   Campo Grande            486686.02\n",
              "                                   Douradina               135905.51\n",
              "                                   Eldorado                148626.95\n",
              "                                   Fátima do Sul            64987.44\n",
              "Nordeste      Alagoas              Maceió                  263751.21\n",
              "              Bahia                Feira de Santana        572546.05\n",
              "                                   Salvador                 77976.01\n",
              "              Ceará                Fortaleza                53609.68\n",
              "              Maranhão             São Luís                160593.90\n",
              "              Paraíba              João Pessoa             331935.71\n",
              "              Pernambuco           Olinda                   54957.66\n",
              "                                   Recife                 1441931.43\n",
              "              Piauí                Teresina                342277.94\n",
              "              Rio Grande do Norte  Natal                   249471.83\n",
              "              Sergipe              Aracajú                 235666.48\n",
              "Norte         Amazonas             Manaus                  107917.91\n",
              "              Pará                 Belém                    87540.93\n",
              "              Tocantins            Palmas                  242414.13\n",
              "Sudeste       Espírito Santo       Vitória                 705175.50\n",
              "              Minas Gerais         Belo Horizonte          372294.41\n",
              "              Rio de Janeiro       Rio de Janeiro          238693.80\n",
              "              São Paulo            Ilha Solteira            52558.85\n",
              "                                   Presidente Prudente      11810.85\n",
              "                                   Ribeirão Pires          375997.41\n",
              "                                   São Paulo              1655156.85\n",
              "                                   São Vicente              62240.59\n",
              "                                   Taubaté                  73201.17\n",
              "Sul           Paraná               Curitiba                546729.16\n",
              "                                   Guapirama                73469.08\n",
              "                                   Ibaiti                   24931.37\n",
              "                                   Jandaia do Sul          160666.91\n",
              "                                   Loanda                   47967.70\n",
              "                                   Maringá                 491705.87\n",
              "              Rio Grande do Sul    Arroio do Meio           18049.27\n",
              "                                   Barros Cassal            93476.61\n",
              "                                   Cachoeira do Sul        122407.78\n",
              "                                   Erval Seco              113281.31\n",
              "                                   Pelotas                  28455.45\n",
              "                                   Porto Alegre            868177.68\n",
              "                                   Áurea                     7685.00\n",
              "              Santa Catarina       Florianópolis           601211.45\n",
              "                                   Itajaí                   86932.15\n",
              "Name: Valor da Venda, dtype: float64"
            ]
          },
          "metadata": {},
          "execution_count": 69
        }
      ]
    },
    {
      "cell_type": "code",
      "source": [
        "#Para finalizar o campo \"Lucro\" vamos decontar o \"Custo de Envio\"\n",
        "df[\"Lucro\"] = (df[\"Lucro\"] - df[\"Custo de Envio\"])"
      ],
      "metadata": {
        "id": "5xNNWS5-YlQ5"
      },
      "execution_count": null,
      "outputs": []
    },
    {
      "cell_type": "code",
      "source": [
        "df[\"Lucro\"].head()"
      ],
      "metadata": {
        "colab": {
          "base_uri": "https://localhost:8080/"
        },
        "id": "eVOwWj5qaaLg",
        "outputId": "02700c37-b67a-4150-ac3e-1c2de7e1bffb"
      },
      "execution_count": null,
      "outputs": [
        {
          "output_type": "execute_result",
          "data": {
            "text/plain": [
              "0     787.3700\n",
              "1      13.1960\n",
              "2      65.2134\n",
              "3     100.8204\n",
              "4    5818.3880\n",
              "Name: Lucro, dtype: float64"
            ]
          },
          "metadata": {},
          "execution_count": 52
        }
      ]
    },
    {
      "cell_type": "markdown",
      "source": [
        "1.0 Pergunta a ser respondida, qual é a venda total?"
      ],
      "metadata": {
        "id": "R5C60t_5RZRj"
      }
    },
    {
      "cell_type": "code",
      "source": [
        "df.head()"
      ],
      "metadata": {
        "id": "8ZSYooAXTAsg"
      },
      "execution_count": null,
      "outputs": []
    },
    {
      "cell_type": "code",
      "source": [],
      "metadata": {
        "id": "SzF-tvgMMUC-"
      },
      "execution_count": null,
      "outputs": []
    },
    {
      "cell_type": "markdown",
      "source": [
        "Criar curva abc\n",
        "Criar percentual por estado, produtos\n",
        "Criar método de envio mais usado"
      ],
      "metadata": {
        "id": "5Az-EpMeAoqa"
      }
    },
    {
      "cell_type": "code",
      "source": [],
      "metadata": {
        "colab": {
          "base_uri": "https://localhost:8080/"
        },
        "id": "NMQ4x8izWSYq",
        "outputId": "ed2ebab3-0aae-4a9d-a312-446b6d6f0d72"
      },
      "execution_count": null,
      "outputs": [
        {
          "output_type": "execute_result",
          "data": {
            "text/plain": [
              "15507174.95"
            ]
          },
          "metadata": {},
          "execution_count": 46
        }
      ]
    }
  ]
}