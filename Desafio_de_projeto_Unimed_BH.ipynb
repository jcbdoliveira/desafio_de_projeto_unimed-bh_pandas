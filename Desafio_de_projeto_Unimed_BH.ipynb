{
  "nbformat": 4,
  "nbformat_minor": 0,
  "metadata": {
    "colab": {
      "provenance": [],
      "collapsed_sections": [],
      "mount_file_id": "1s37tsxPB8-vYAU32Xv8XVHWMMjgbLiMH",
      "authorship_tag": "ABX9TyN/VE7pYdx94q/ie9wtzbcE",
      "include_colab_link": true
    },
    "kernelspec": {
      "name": "python3",
      "display_name": "Python 3"
    },
    "language_info": {
      "name": "python"
    }
  },
  "cells": [
    {
      "cell_type": "markdown",
      "metadata": {
        "id": "view-in-github",
        "colab_type": "text"
      },
      "source": [
        "<a href=\"https://colab.research.google.com/github/jcbdoliveira/desafrio_de_projeto_unimed-bh_pandas/blob/main/Desafio_de_projeto_Unimed_BH.ipynb\" target=\"_parent\"><img src=\"https://colab.research.google.com/assets/colab-badge.svg\" alt=\"Open In Colab\"/></a>"
      ]
    },
    {
      "cell_type": "markdown",
      "source": [
        "> Olá, este projeto tem como objetivo explorar uma base de dados de vendas.\n",
        "Os dados foram obitidos do site [Kaggle](https://www.kaggle.com/datasets). Este site prôve vários dataset de dados abertos que são uma ótima opção de treino e aperfeiçoamento de habilidades.\n",
        "Neste projeto irei analisar as vendas de produtos, segmentando por clientes, grupos e categorias.\n",
        "\n",
        "**Roteiro da análise:**\n",
        "\n",
        "1.   Definir escopo, para saber as linhas e colunas\n",
        "2.   Testar a base para encontar dados nulos e tratar se necessário\n",
        "3.   Remover colunas desnecessárias\n",
        "4.   Analisar campos chaves da tabela para evitar distorções e análise falha.\n",
        "5.   Identificar o período de tempo para análise\n",
        "6.   Responder as questões abaixo:\n",
        "     *   Qual faturamento total\n",
        "     *   Qual faturamento por ano\n",
        "     *   Qual faturamento por: estado, cidade e região\n",
        "     *   Qual custo de envio por tipo\n",
        "     *   Prazo médio de envio\n",
        "     *   Margem de contribuição de lucro por produto\n",
        "     *   Top 10 produtos vendidos em quantidade e valor de venda\n",
        "\n"
      ],
      "metadata": {
        "id": "uuDWiAoWOAtD"
      }
    },
    {
      "cell_type": "code",
      "execution_count": 1,
      "metadata": {
        "id": "EzwNtW_IGqb2"
      },
      "outputs": [],
      "source": [
        "import pandas as pd\n",
        "import matplotlib.pyplot as plt\n",
        "import datetime as dt\n",
        "df = pd.read_csv(\"sales.csv\")"
      ]
    },
    {
      "cell_type": "markdown",
      "source": [
        "\n",
        "1.   Definir escopo, para saber as linhas e colunas"
      ],
      "metadata": {
        "id": "E6Bg1NcwVKR1"
      }
    },
    {
      "cell_type": "code",
      "source": [
        "#Método utilizado para mostrar os primeiros registros da base\n",
        "df.head()"
      ],
      "metadata": {
        "id": "6LVIc6hvNUAu",
        "colab": {
          "base_uri": "https://localhost:8080/",
          "height": 681
        },
        "outputId": "4388c600-fcb0-4efd-c01b-efe874784790"
      },
      "execution_count": 2,
      "outputs": [
        {
          "output_type": "execute_result",
          "data": {
            "text/plain": [
              "   Unnamed: 0  Row ID  Order ID Data da Venda        Prioridade  Quantidade  \\\n",
              "0           0     674      4706    2012-12-28  Não Especificada          30   \n",
              "1           1     816      5891    2012-12-28             Média           2   \n",
              "2           2    1876     13507    2012-12-29             Média          27   \n",
              "3           3    3583     25542    2012-12-30             Baixa          37   \n",
              "4           4    4008     28611    2012-12-27             Baixa          30   \n",
              "\n",
              "   Valor da Venda  Desconto Forma de Envio     Lucro  ...      Estado  \\\n",
              "0         2116.70      0.02   Aéreo Normal   488.818  ...  Pernambuco   \n",
              "1           44.45      0.01   Aéreo Normal   -17.457  ...     Paraíba   \n",
              "2          176.10      0.09   Aéreo Normal   -75.710  ...        Pará   \n",
              "3          257.46      0.09   Aéreo Rápido   -18.660  ...       Goiás   \n",
              "4        15337.58      0.10   Aéreo Normal  6670.409  ...   São Paulo   \n",
              "\n",
              "         Região    País Segmento do Cliente    Categoria do Produto  \\\n",
              "0      Nordeste  Brasil   Pequenas Empresas  Material de Escritório   \n",
              "1      Nordeste  Brasil  Escritório em Casa  Material de Escritório   \n",
              "2         Norte  Brasil   Pequenas Empresas  Material de Escritório   \n",
              "3  Centro-Oeste  Brasil  Escritório em Casa  Material de Escritório   \n",
              "4       Sudeste  Brasil          Consumidor  Material de Escritório   \n",
              "\n",
              "  Sub-Categoria do Produto                                    Nome do Produto  \\\n",
              "0       Capas e Acessórios               Catalog Binders with Expanding Posts   \n",
              "1       Capas e Acessórios                          Avery Legal 4-Ring Binder   \n",
              "2                    Papel                       Strathmore Photo Mount Cards   \n",
              "3                    Papel  Black Print Carbonless 8 1/2\" x 8 1/4\" Rapid M...   \n",
              "4       Capas e Acessórios          GBC DocuBind 300 Electric Binding Machine   \n",
              "\n",
              "   Embalagem Margem Data de Envio  \n",
              "0  Small Box   0.40    2012-12-30  \n",
              "1  Small Box   0.35    2012-12-30  \n",
              "2  Small Box   0.39    2012-12-30  \n",
              "3   Wrap Bag   0.39    2012-12-30  \n",
              "4  Small Box   0.37    2012-12-30  \n",
              "\n",
              "[5 rows x 25 columns]"
            ],
            "text/html": [
              "\n",
              "  <div id=\"df-871ae34f-6b3d-425c-9ffe-93de216124c6\">\n",
              "    <div class=\"colab-df-container\">\n",
              "      <div>\n",
              "<style scoped>\n",
              "    .dataframe tbody tr th:only-of-type {\n",
              "        vertical-align: middle;\n",
              "    }\n",
              "\n",
              "    .dataframe tbody tr th {\n",
              "        vertical-align: top;\n",
              "    }\n",
              "\n",
              "    .dataframe thead th {\n",
              "        text-align: right;\n",
              "    }\n",
              "</style>\n",
              "<table border=\"1\" class=\"dataframe\">\n",
              "  <thead>\n",
              "    <tr style=\"text-align: right;\">\n",
              "      <th></th>\n",
              "      <th>Unnamed: 0</th>\n",
              "      <th>Row ID</th>\n",
              "      <th>Order ID</th>\n",
              "      <th>Data da Venda</th>\n",
              "      <th>Prioridade</th>\n",
              "      <th>Quantidade</th>\n",
              "      <th>Valor da Venda</th>\n",
              "      <th>Desconto</th>\n",
              "      <th>Forma de Envio</th>\n",
              "      <th>Lucro</th>\n",
              "      <th>...</th>\n",
              "      <th>Estado</th>\n",
              "      <th>Região</th>\n",
              "      <th>País</th>\n",
              "      <th>Segmento do Cliente</th>\n",
              "      <th>Categoria do Produto</th>\n",
              "      <th>Sub-Categoria do Produto</th>\n",
              "      <th>Nome do Produto</th>\n",
              "      <th>Embalagem</th>\n",
              "      <th>Margem</th>\n",
              "      <th>Data de Envio</th>\n",
              "    </tr>\n",
              "  </thead>\n",
              "  <tbody>\n",
              "    <tr>\n",
              "      <th>0</th>\n",
              "      <td>0</td>\n",
              "      <td>674</td>\n",
              "      <td>4706</td>\n",
              "      <td>2012-12-28</td>\n",
              "      <td>Não Especificada</td>\n",
              "      <td>30</td>\n",
              "      <td>2116.70</td>\n",
              "      <td>0.02</td>\n",
              "      <td>Aéreo Normal</td>\n",
              "      <td>488.818</td>\n",
              "      <td>...</td>\n",
              "      <td>Pernambuco</td>\n",
              "      <td>Nordeste</td>\n",
              "      <td>Brasil</td>\n",
              "      <td>Pequenas Empresas</td>\n",
              "      <td>Material de Escritório</td>\n",
              "      <td>Capas e Acessórios</td>\n",
              "      <td>Catalog Binders with Expanding Posts</td>\n",
              "      <td>Small Box</td>\n",
              "      <td>0.40</td>\n",
              "      <td>2012-12-30</td>\n",
              "    </tr>\n",
              "    <tr>\n",
              "      <th>1</th>\n",
              "      <td>1</td>\n",
              "      <td>816</td>\n",
              "      <td>5891</td>\n",
              "      <td>2012-12-28</td>\n",
              "      <td>Média</td>\n",
              "      <td>2</td>\n",
              "      <td>44.45</td>\n",
              "      <td>0.01</td>\n",
              "      <td>Aéreo Normal</td>\n",
              "      <td>-17.457</td>\n",
              "      <td>...</td>\n",
              "      <td>Paraíba</td>\n",
              "      <td>Nordeste</td>\n",
              "      <td>Brasil</td>\n",
              "      <td>Escritório em Casa</td>\n",
              "      <td>Material de Escritório</td>\n",
              "      <td>Capas e Acessórios</td>\n",
              "      <td>Avery Legal 4-Ring Binder</td>\n",
              "      <td>Small Box</td>\n",
              "      <td>0.35</td>\n",
              "      <td>2012-12-30</td>\n",
              "    </tr>\n",
              "    <tr>\n",
              "      <th>2</th>\n",
              "      <td>2</td>\n",
              "      <td>1876</td>\n",
              "      <td>13507</td>\n",
              "      <td>2012-12-29</td>\n",
              "      <td>Média</td>\n",
              "      <td>27</td>\n",
              "      <td>176.10</td>\n",
              "      <td>0.09</td>\n",
              "      <td>Aéreo Normal</td>\n",
              "      <td>-75.710</td>\n",
              "      <td>...</td>\n",
              "      <td>Pará</td>\n",
              "      <td>Norte</td>\n",
              "      <td>Brasil</td>\n",
              "      <td>Pequenas Empresas</td>\n",
              "      <td>Material de Escritório</td>\n",
              "      <td>Papel</td>\n",
              "      <td>Strathmore Photo Mount Cards</td>\n",
              "      <td>Small Box</td>\n",
              "      <td>0.39</td>\n",
              "      <td>2012-12-30</td>\n",
              "    </tr>\n",
              "    <tr>\n",
              "      <th>3</th>\n",
              "      <td>3</td>\n",
              "      <td>3583</td>\n",
              "      <td>25542</td>\n",
              "      <td>2012-12-30</td>\n",
              "      <td>Baixa</td>\n",
              "      <td>37</td>\n",
              "      <td>257.46</td>\n",
              "      <td>0.09</td>\n",
              "      <td>Aéreo Rápido</td>\n",
              "      <td>-18.660</td>\n",
              "      <td>...</td>\n",
              "      <td>Goiás</td>\n",
              "      <td>Centro-Oeste</td>\n",
              "      <td>Brasil</td>\n",
              "      <td>Escritório em Casa</td>\n",
              "      <td>Material de Escritório</td>\n",
              "      <td>Papel</td>\n",
              "      <td>Black Print Carbonless 8 1/2\" x 8 1/4\" Rapid M...</td>\n",
              "      <td>Wrap Bag</td>\n",
              "      <td>0.39</td>\n",
              "      <td>2012-12-30</td>\n",
              "    </tr>\n",
              "    <tr>\n",
              "      <th>4</th>\n",
              "      <td>4</td>\n",
              "      <td>4008</td>\n",
              "      <td>28611</td>\n",
              "      <td>2012-12-27</td>\n",
              "      <td>Baixa</td>\n",
              "      <td>30</td>\n",
              "      <td>15337.58</td>\n",
              "      <td>0.10</td>\n",
              "      <td>Aéreo Normal</td>\n",
              "      <td>6670.409</td>\n",
              "      <td>...</td>\n",
              "      <td>São Paulo</td>\n",
              "      <td>Sudeste</td>\n",
              "      <td>Brasil</td>\n",
              "      <td>Consumidor</td>\n",
              "      <td>Material de Escritório</td>\n",
              "      <td>Capas e Acessórios</td>\n",
              "      <td>GBC DocuBind 300 Electric Binding Machine</td>\n",
              "      <td>Small Box</td>\n",
              "      <td>0.37</td>\n",
              "      <td>2012-12-30</td>\n",
              "    </tr>\n",
              "  </tbody>\n",
              "</table>\n",
              "<p>5 rows × 25 columns</p>\n",
              "</div>\n",
              "      <button class=\"colab-df-convert\" onclick=\"convertToInteractive('df-871ae34f-6b3d-425c-9ffe-93de216124c6')\"\n",
              "              title=\"Convert this dataframe to an interactive table.\"\n",
              "              style=\"display:none;\">\n",
              "        \n",
              "  <svg xmlns=\"http://www.w3.org/2000/svg\" height=\"24px\"viewBox=\"0 0 24 24\"\n",
              "       width=\"24px\">\n",
              "    <path d=\"M0 0h24v24H0V0z\" fill=\"none\"/>\n",
              "    <path d=\"M18.56 5.44l.94 2.06.94-2.06 2.06-.94-2.06-.94-.94-2.06-.94 2.06-2.06.94zm-11 1L8.5 8.5l.94-2.06 2.06-.94-2.06-.94L8.5 2.5l-.94 2.06-2.06.94zm10 10l.94 2.06.94-2.06 2.06-.94-2.06-.94-.94-2.06-.94 2.06-2.06.94z\"/><path d=\"M17.41 7.96l-1.37-1.37c-.4-.4-.92-.59-1.43-.59-.52 0-1.04.2-1.43.59L10.3 9.45l-7.72 7.72c-.78.78-.78 2.05 0 2.83L4 21.41c.39.39.9.59 1.41.59.51 0 1.02-.2 1.41-.59l7.78-7.78 2.81-2.81c.8-.78.8-2.07 0-2.86zM5.41 20L4 18.59l7.72-7.72 1.47 1.35L5.41 20z\"/>\n",
              "  </svg>\n",
              "      </button>\n",
              "      \n",
              "  <style>\n",
              "    .colab-df-container {\n",
              "      display:flex;\n",
              "      flex-wrap:wrap;\n",
              "      gap: 12px;\n",
              "    }\n",
              "\n",
              "    .colab-df-convert {\n",
              "      background-color: #E8F0FE;\n",
              "      border: none;\n",
              "      border-radius: 50%;\n",
              "      cursor: pointer;\n",
              "      display: none;\n",
              "      fill: #1967D2;\n",
              "      height: 32px;\n",
              "      padding: 0 0 0 0;\n",
              "      width: 32px;\n",
              "    }\n",
              "\n",
              "    .colab-df-convert:hover {\n",
              "      background-color: #E2EBFA;\n",
              "      box-shadow: 0px 1px 2px rgba(60, 64, 67, 0.3), 0px 1px 3px 1px rgba(60, 64, 67, 0.15);\n",
              "      fill: #174EA6;\n",
              "    }\n",
              "\n",
              "    [theme=dark] .colab-df-convert {\n",
              "      background-color: #3B4455;\n",
              "      fill: #D2E3FC;\n",
              "    }\n",
              "\n",
              "    [theme=dark] .colab-df-convert:hover {\n",
              "      background-color: #434B5C;\n",
              "      box-shadow: 0px 1px 3px 1px rgba(0, 0, 0, 0.15);\n",
              "      filter: drop-shadow(0px 1px 2px rgba(0, 0, 0, 0.3));\n",
              "      fill: #FFFFFF;\n",
              "    }\n",
              "  </style>\n",
              "\n",
              "      <script>\n",
              "        const buttonEl =\n",
              "          document.querySelector('#df-871ae34f-6b3d-425c-9ffe-93de216124c6 button.colab-df-convert');\n",
              "        buttonEl.style.display =\n",
              "          google.colab.kernel.accessAllowed ? 'block' : 'none';\n",
              "\n",
              "        async function convertToInteractive(key) {\n",
              "          const element = document.querySelector('#df-871ae34f-6b3d-425c-9ffe-93de216124c6');\n",
              "          const dataTable =\n",
              "            await google.colab.kernel.invokeFunction('convertToInteractive',\n",
              "                                                     [key], {});\n",
              "          if (!dataTable) return;\n",
              "\n",
              "          const docLinkHtml = 'Like what you see? Visit the ' +\n",
              "            '<a target=\"_blank\" href=https://colab.research.google.com/notebooks/data_table.ipynb>data table notebook</a>'\n",
              "            + ' to learn more about interactive tables.';\n",
              "          element.innerHTML = '';\n",
              "          dataTable['output_type'] = 'display_data';\n",
              "          await google.colab.output.renderOutput(dataTable, element);\n",
              "          const docLink = document.createElement('div');\n",
              "          docLink.innerHTML = docLinkHtml;\n",
              "          element.appendChild(docLink);\n",
              "        }\n",
              "      </script>\n",
              "    </div>\n",
              "  </div>\n",
              "  "
            ]
          },
          "metadata": {},
          "execution_count": 2
        }
      ]
    },
    {
      "cell_type": "code",
      "source": [
        "#Utilizado para ler as quantidades de linhas e colunas\n",
        "df.shape"
      ],
      "metadata": {
        "id": "QbxFqxwzME7x",
        "colab": {
          "base_uri": "https://localhost:8080/"
        },
        "outputId": "90c54237-6460-40c2-eaa8-e119d28b6e16"
      },
      "execution_count": 3,
      "outputs": [
        {
          "output_type": "execute_result",
          "data": {
            "text/plain": [
              "(8399, 25)"
            ]
          },
          "metadata": {},
          "execution_count": 3
        }
      ]
    },
    {
      "cell_type": "code",
      "source": [
        "#Apresenta uma lista dos campos \n",
        "df.dtypes"
      ],
      "metadata": {
        "id": "AYH2ZZVWMPix",
        "colab": {
          "base_uri": "https://localhost:8080/"
        },
        "outputId": "14f873ca-32a7-4fa5-b8be-e584c93fdfda"
      },
      "execution_count": 4,
      "outputs": [
        {
          "output_type": "execute_result",
          "data": {
            "text/plain": [
              "Unnamed: 0                    int64\n",
              "Row ID                        int64\n",
              "Order ID                      int64\n",
              "Data da Venda                object\n",
              "Prioridade                   object\n",
              "Quantidade                    int64\n",
              "Valor da Venda              float64\n",
              "Desconto                    float64\n",
              "Forma de Envio               object\n",
              "Lucro                       float64\n",
              "Preço Unitário              float64\n",
              "Custo de Envio              float64\n",
              "Nome do Cliente              object\n",
              "Cidade                       object\n",
              "CEP                           int64\n",
              "Estado                       object\n",
              "Região                       object\n",
              "País                         object\n",
              "Segmento do Cliente          object\n",
              "Categoria do Produto         object\n",
              "Sub-Categoria do Produto     object\n",
              "Nome do Produto              object\n",
              "Embalagem                    object\n",
              "Margem                      float64\n",
              "Data de Envio                object\n",
              "dtype: object"
            ]
          },
          "metadata": {},
          "execution_count": 4
        }
      ]
    },
    {
      "cell_type": "markdown",
      "source": [
        "2.  Testar a base para encontar dados nulos e tratar se necessário"
      ],
      "metadata": {
        "id": "32CzO1WUWTfw"
      }
    },
    {
      "cell_type": "code",
      "source": [
        "#verificando valores nulos\n",
        "df.isnull().sum()"
      ],
      "metadata": {
        "id": "juJn_4kwRj9w",
        "colab": {
          "base_uri": "https://localhost:8080/"
        },
        "outputId": "07e6be9b-9433-4225-e025-8cbb9a4cc738"
      },
      "execution_count": 5,
      "outputs": [
        {
          "output_type": "execute_result",
          "data": {
            "text/plain": [
              "Unnamed: 0                   0\n",
              "Row ID                       0\n",
              "Order ID                     0\n",
              "Data da Venda                0\n",
              "Prioridade                   0\n",
              "Quantidade                   0\n",
              "Valor da Venda               0\n",
              "Desconto                     0\n",
              "Forma de Envio               0\n",
              "Lucro                        0\n",
              "Preço Unitário               0\n",
              "Custo de Envio               0\n",
              "Nome do Cliente              0\n",
              "Cidade                       0\n",
              "CEP                          0\n",
              "Estado                       0\n",
              "Região                       0\n",
              "País                         0\n",
              "Segmento do Cliente          0\n",
              "Categoria do Produto         0\n",
              "Sub-Categoria do Produto     0\n",
              "Nome do Produto              0\n",
              "Embalagem                    0\n",
              "Margem                      63\n",
              "Data de Envio                0\n",
              "dtype: int64"
            ]
          },
          "metadata": {},
          "execution_count": 5
        }
      ]
    },
    {
      "cell_type": "code",
      "source": [
        "#Substituindo os valores nulos pela média\n",
        "df[\"Margem\"].fillna(df[\"Margem\"].mean(), inplace=True)"
      ],
      "metadata": {
        "id": "ZS5PUWGZWhUG"
      },
      "execution_count": 6,
      "outputs": []
    },
    {
      "cell_type": "markdown",
      "source": [
        "3.   Remover colunas desnecessárias"
      ],
      "metadata": {
        "id": "_eIYTbVTW2rG"
      }
    },
    {
      "cell_type": "code",
      "source": [
        "#Removendo colunas não utilizdas na análise\n",
        "colunas_par_remocao = [\"Unnamed: 0\",\"Row ID\", \"Order ID\", \"Prioridade\"]\n",
        "df = df.drop(columns=colunas_par_remocao)"
      ],
      "metadata": {
        "id": "6kTZLvvkWWm1"
      },
      "execution_count": 7,
      "outputs": []
    },
    {
      "cell_type": "markdown",
      "source": [
        "4.   Analisar campos chaves da tabela para evitar distorções e análise falha."
      ],
      "metadata": {
        "id": "oCPChcgOXiuz"
      }
    },
    {
      "cell_type": "code",
      "source": [
        "#Validando as colunas \"valora da Venda\" e (quantidade * Preço unitário)\"\n",
        "#Se verdadeiro utilizamos coluna \"valor da venda\", caso contrário atualizamos os valores\n",
        "if not (df[\"Valor da Venda\"].sum() == (df[\"Quantidade\"].mul(df[\"Preço Unitário\"])).sum()):\n",
        "  df[\"Valor da Venda\"] = (df[\"Quantidade\"] * df[\"Preço Unitário\"])"
      ],
      "metadata": {
        "id": "d8MX1ykrUBGU"
      },
      "execution_count": 8,
      "outputs": []
    },
    {
      "cell_type": "code",
      "source": [
        "#Analisando a coluna lucro\n",
        "#A coluna \"Margem\" representa a margem de lucro  obtido na venda.\n",
        "#Desta forma  podemos validar a coluna comparando com a coluna  \"Valor da Venda\" multiplicado pela caoluna \"Margem\"\n",
        "#Se valores de amostra diferentes atualizamos o valor da coluna Lucro\n",
        "(df[\"Lucro\"] == df[\"Valor da Venda\"].mul(df[\"Margem\"])).sample(10)\n"
      ],
      "metadata": {
        "colab": {
          "base_uri": "https://localhost:8080/"
        },
        "id": "oNYgRNnDVyY-",
        "outputId": "a98c460f-773e-4347-968c-59982abad372"
      },
      "execution_count": 9,
      "outputs": [
        {
          "output_type": "execute_result",
          "data": {
            "text/plain": [
              "7886    False\n",
              "2393    False\n",
              "7564    False\n",
              "5467    False\n",
              "6893    False\n",
              "2931    False\n",
              "8289    False\n",
              "4334    False\n",
              "6628    False\n",
              "2603    False\n",
              "dtype: bool"
            ]
          },
          "metadata": {},
          "execution_count": 9
        }
      ]
    },
    {
      "cell_type": "code",
      "source": [
        "#O resultado foi que a coluna \"Lucro\" não representa o valor esperado.\n",
        "#Vamos corrigir a coluna com valores novos\n",
        "df[\"Lucro\"] = (df[\"Valor da Venda\"].mul(df[\"Margem\"]))"
      ],
      "metadata": {
        "id": "jhi4QF9JXeW8"
      },
      "execution_count": 10,
      "outputs": []
    },
    {
      "cell_type": "code",
      "source": [
        "#Refazendo análise da coluna \"Lucro\"\n",
        "(df[\"Lucro\"] == (df[\"Valor da Venda\"] * df[\"Margem\"])).sample(10)"
      ],
      "metadata": {
        "colab": {
          "base_uri": "https://localhost:8080/"
        },
        "id": "mwFKuzLfX3fV",
        "outputId": "5cf02add-7b2e-4d2e-e925-f86ccfd47877"
      },
      "execution_count": 11,
      "outputs": [
        {
          "output_type": "execute_result",
          "data": {
            "text/plain": [
              "3771    True\n",
              "2291    True\n",
              "1306    True\n",
              "7761    True\n",
              "3528    True\n",
              "8371    True\n",
              "2048    True\n",
              "6799    True\n",
              "5155    True\n",
              "3596    True\n",
              "dtype: bool"
            ]
          },
          "metadata": {},
          "execution_count": 11
        }
      ]
    },
    {
      "cell_type": "code",
      "source": [
        "#Para finalizar o campo \"Lucro\" vamos decontar o \"Custo de Envio\"\n",
        "df[\"Lucro\"] = (df[\"Lucro\"] - df[\"Custo de Envio\"])"
      ],
      "metadata": {
        "id": "jyJ_mrhYlo7c"
      },
      "execution_count": 12,
      "outputs": []
    },
    {
      "cell_type": "markdown",
      "source": [
        "5.   Identificar o período de tempo para análise\n"
      ],
      "metadata": {
        "id": "-e4vOJoTbFuC"
      }
    },
    {
      "cell_type": "code",
      "source": [
        "df[\"Data da Venda\"].min()"
      ],
      "metadata": {
        "colab": {
          "base_uri": "https://localhost:8080/",
          "height": 35
        },
        "id": "z2LKkQuJbPin",
        "outputId": "163b6a57-513f-466b-e2bc-b8a52ebe67a3"
      },
      "execution_count": 13,
      "outputs": [
        {
          "output_type": "execute_result",
          "data": {
            "text/plain": [
              "'2009-01-01'"
            ],
            "application/vnd.google.colaboratory.intrinsic+json": {
              "type": "string"
            }
          },
          "metadata": {},
          "execution_count": 13
        }
      ]
    },
    {
      "cell_type": "code",
      "source": [
        "df[\"Data da Venda\"].max()"
      ],
      "metadata": {
        "colab": {
          "base_uri": "https://localhost:8080/",
          "height": 35
        },
        "id": "VDpkN0yLcKQK",
        "outputId": "bc6ddeb5-c417-4f98-b9f2-d13d3f301928"
      },
      "execution_count": 14,
      "outputs": [
        {
          "output_type": "execute_result",
          "data": {
            "text/plain": [
              "'2012-12-30'"
            ],
            "application/vnd.google.colaboratory.intrinsic+json": {
              "type": "string"
            }
          },
          "metadata": {},
          "execution_count": 14
        }
      ]
    },
    {
      "cell_type": "code",
      "source": [
        "#Convertendo o campo Data da Venda para datetime\n",
        "df[\"Data da Venda\"] = pd.to_datetime(df[\"Data da Venda\"], errors=\"ignore\")"
      ],
      "metadata": {
        "id": "2zn7_LvbhF21"
      },
      "execution_count": 15,
      "outputs": []
    },
    {
      "cell_type": "code",
      "source": [
        "#Convertendo o campo Data da Envio para datetime\n",
        "df[\"Data de Envio\"] = pd.to_datetime(df[\"Data de Envio\"], errors=\"ignore\")"
      ],
      "metadata": {
        "id": "ZjXKKtlUn3bO"
      },
      "execution_count": 16,
      "outputs": []
    },
    {
      "cell_type": "markdown",
      "source": [
        " *   Qual faturamento total"
      ],
      "metadata": {
        "id": "25SGHR_1cnK1"
      }
    },
    {
      "cell_type": "code",
      "source": [
        "df[\"Valor da Venda\"].sum()"
      ],
      "metadata": {
        "colab": {
          "base_uri": "https://localhost:8080/"
        },
        "id": "1UoHOHvOYMJK",
        "outputId": "dcf77b22-ab95-4903-a613-a4e31da69c8c"
      },
      "execution_count": 17,
      "outputs": [
        {
          "output_type": "execute_result",
          "data": {
            "text/plain": [
              "15507174.95"
            ]
          },
          "metadata": {},
          "execution_count": 17
        }
      ]
    },
    {
      "cell_type": "markdown",
      "source": [
        "*   Qual faturamento por ano"
      ],
      "metadata": {
        "id": "7jsGhyzxc3B2"
      }
    },
    {
      "cell_type": "code",
      "source": [
        "#Faturamento por ano\n",
        "df.groupby(df[\"Data da Venda\"].dt.year)['Valor da Venda'].sum()"
      ],
      "metadata": {
        "colab": {
          "base_uri": "https://localhost:8080/"
        },
        "id": "eTQ7l40Rc4R2",
        "outputId": "cfa47d7a-680a-4c50-9614-60a16ee2cfdf"
      },
      "execution_count": 18,
      "outputs": [
        {
          "output_type": "execute_result",
          "data": {
            "text/plain": [
              "Data da Venda\n",
              "2009    4355149.59\n",
              "2010    3685916.16\n",
              "2011    3597484.15\n",
              "2012    3868625.05\n",
              "Name: Valor da Venda, dtype: float64"
            ]
          },
          "metadata": {},
          "execution_count": 18
        }
      ]
    },
    {
      "cell_type": "code",
      "source": [
        "#Transações por ano\n",
        "df.groupby(df[\"Data da Venda\"].dt.year)['Valor da Venda'].count()"
      ],
      "metadata": {
        "colab": {
          "base_uri": "https://localhost:8080/"
        },
        "id": "_gFRJkRRYNjO",
        "outputId": "8d8cf918-36ba-4192-d55d-6fb3df53a127"
      },
      "execution_count": 19,
      "outputs": [
        {
          "output_type": "execute_result",
          "data": {
            "text/plain": [
              "Data da Venda\n",
              "2009    2153\n",
              "2010    2142\n",
              "2011    2002\n",
              "2012    2102\n",
              "Name: Valor da Venda, dtype: int64"
            ]
          },
          "metadata": {},
          "execution_count": 19
        }
      ]
    },
    {
      "cell_type": "code",
      "source": [
        "#Valor médio por transação\n",
        "(df.groupby(df[\"Data da Venda\"].dt.year)['Valor da Venda'].sum() / df.groupby(df[\"Data da Venda\"].dt.year)['Valor da Venda'].count())"
      ],
      "metadata": {
        "colab": {
          "base_uri": "https://localhost:8080/"
        },
        "id": "Azz5rYyOY-Rg",
        "outputId": "a707a20a-047f-4b7c-a9f7-5ad65a025dc5"
      },
      "execution_count": 20,
      "outputs": [
        {
          "output_type": "execute_result",
          "data": {
            "text/plain": [
              "Data da Venda\n",
              "2009    2022.828421\n",
              "2010    1720.782521\n",
              "2011    1796.945130\n",
              "2012    1840.449596\n",
              "Name: Valor da Venda, dtype: float64"
            ]
          },
          "metadata": {},
          "execution_count": 20
        }
      ]
    },
    {
      "cell_type": "code",
      "source": [
        "df.groupby(df[\"Data da Venda\"].dt.year)['Valor da Venda'].sum().plot.bar(title='Vendas por ano')\n",
        "plt.xlabel(\"Ano\")\n",
        "plt.ylabel(\"Vendas\");"
      ],
      "metadata": {
        "colab": {
          "base_uri": "https://localhost:8080/",
          "height": 311
        },
        "id": "i3meZ6HWhgfH",
        "outputId": "f5d6443f-9b16-4e12-91ee-406230b63284"
      },
      "execution_count": 21,
      "outputs": [
        {
          "output_type": "display_data",
          "data": {
            "text/plain": [
              "<Figure size 432x288 with 1 Axes>"
            ],
            "image/png": "[encoded data removed]"
          },
          "metadata": {
            "needs_background": "light"
          }
        }
      ]
    },
    {
      "cell_type": "markdown",
      "source": [
        "*   Qual faturamento por: estado, cidade e região"
      ],
      "metadata": {
        "id": "SJ0gLRgPiRkC"
      }
    },
    {
      "cell_type": "code",
      "source": [
        "df.groupby(df[\"Estado\"])['Valor da Venda'].sum().sort_values(ascending=False)"
      ],
      "metadata": {
        "colab": {
          "base_uri": "https://localhost:8080/"
        },
        "id": "UPYrqxI2iS73",
        "outputId": "e484c63a-1f5e-454f-d1d7-42608b4f9622"
      },
      "execution_count": 22,
      "outputs": [
        {
          "output_type": "execute_result",
          "data": {
            "text/plain": [
              "Estado\n",
              "Goiás                  2952044.42\n",
              "São Paulo              2230965.72\n",
              "Pernambuco             1496889.09\n",
              "Paraná                 1345470.09\n",
              "Rio Grande do Sul      1251533.10\n",
              "Mato Grosso do Sul      836205.92\n",
              "Espírito Santo          705175.50\n",
              "Santa Catarina          688143.60\n",
              "Bahia                   650522.06\n",
              "Mato Grosso             469240.80\n",
              "Minas Gerais            372294.41\n",
              "Piauí                   342277.94\n",
              "Paraíba                 331935.71\n",
              "Alagoas                 263751.21\n",
              "Rio Grande do Norte     249471.83\n",
              "Tocantins               242414.13\n",
              "Rio de Janeiro          238693.80\n",
              "Sergipe                 235666.48\n",
              "Distrito Federal        194816.72\n",
              "Maranhão                160593.90\n",
              "Amazonas                107917.91\n",
              "Pará                     87540.93\n",
              "Ceará                    53609.68\n",
              "Name: Valor da Venda, dtype: float64"
            ]
          },
          "metadata": {},
          "execution_count": 22
        }
      ]
    },
    {
      "cell_type": "code",
      "source": [
        "df.groupby(df[\"Região\"])['Valor da Venda'].sum().sort_values(ascending=False).plot.pie();"
      ],
      "metadata": {
        "colab": {
          "base_uri": "https://localhost:8080/",
          "height": 248
        },
        "id": "voAUb7FXlCEP",
        "outputId": "7732e110-0585-4b23-f3a3-27fc9fd775d5"
      },
      "execution_count": 23,
      "outputs": [
        {
          "output_type": "display_data",
          "data": {
            "text/plain": [
              "<Figure size 432x288 with 1 Axes>"
            ],
            "image/png": "[encoded data removed]"
          },
          "metadata": {}
        }
      ]
    },
    {
      "cell_type": "code",
      "source": [
        "df.groupby([df[\"Região\"], df[\"Estado\"], df[\"Cidade\"]])['Valor da Venda'].sum()"
      ],
      "metadata": {
        "colab": {
          "base_uri": "https://localhost:8080/"
        },
        "id": "PEEDvRD8jSfN",
        "outputId": "87ce4c2a-7abb-404e-ae13-f37d3b421753"
      },
      "execution_count": 24,
      "outputs": [
        {
          "output_type": "execute_result",
          "data": {
            "text/plain": [
              "Região        Estado               Cidade             \n",
              "Centro-Oeste  Distrito Federal     Brasília                194816.72\n",
              "              Goiás                Alexânia                128969.03\n",
              "                                   Anápolis                997322.99\n",
              "                                   Caldas Novas             26885.00\n",
              "                                   Corumbá de Goiás        124119.04\n",
              "                                   Formosa                 577161.49\n",
              "                                   Goianésia               220740.27\n",
              "                                   Goiânia                 651706.88\n",
              "                                   Novo Gama               225139.72\n",
              "              Mato Grosso          Cuiabá                  469240.80\n",
              "              Mato Grosso do Sul   Campo Grande            486686.02\n",
              "                                   Douradina               135905.51\n",
              "                                   Eldorado                148626.95\n",
              "                                   Fátima do Sul            64987.44\n",
              "Nordeste      Alagoas              Maceió                  263751.21\n",
              "              Bahia                Feira de Santana        572546.05\n",
              "                                   Salvador                 77976.01\n",
              "              Ceará                Fortaleza                53609.68\n",
              "              Maranhão             São Luís                160593.90\n",
              "              Paraíba              João Pessoa             331935.71\n",
              "              Pernambuco           Olinda                   54957.66\n",
              "                                   Recife                 1441931.43\n",
              "              Piauí                Teresina                342277.94\n",
              "              Rio Grande do Norte  Natal                   249471.83\n",
              "              Sergipe              Aracajú                 235666.48\n",
              "Norte         Amazonas             Manaus                  107917.91\n",
              "              Pará                 Belém                    87540.93\n",
              "              Tocantins            Palmas                  242414.13\n",
              "Sudeste       Espírito Santo       Vitória                 705175.50\n",
              "              Minas Gerais         Belo Horizonte          372294.41\n",
              "              Rio de Janeiro       Rio de Janeiro          238693.80\n",
              "              São Paulo            Ilha Solteira            52558.85\n",
              "                                   Presidente Prudente      11810.85\n",
              "                                   Ribeirão Pires          375997.41\n",
              "                                   São Paulo              1655156.85\n",
              "                                   São Vicente              62240.59\n",
              "                                   Taubaté                  73201.17\n",
              "Sul           Paraná               Curitiba                546729.16\n",
              "                                   Guapirama                73469.08\n",
              "                                   Ibaiti                   24931.37\n",
              "                                   Jandaia do Sul          160666.91\n",
              "                                   Loanda                   47967.70\n",
              "                                   Maringá                 491705.87\n",
              "              Rio Grande do Sul    Arroio do Meio           18049.27\n",
              "                                   Barros Cassal            93476.61\n",
              "                                   Cachoeira do Sul        122407.78\n",
              "                                   Erval Seco              113281.31\n",
              "                                   Pelotas                  28455.45\n",
              "                                   Porto Alegre            868177.68\n",
              "                                   Áurea                     7685.00\n",
              "              Santa Catarina       Florianópolis           601211.45\n",
              "                                   Itajaí                   86932.15\n",
              "Name: Valor da Venda, dtype: float64"
            ]
          },
          "metadata": {},
          "execution_count": 24
        }
      ]
    },
    {
      "cell_type": "markdown",
      "source": [
        "*   Qual custo de envio por tipo"
      ],
      "metadata": {
        "id": "JwcYXLcVm8li"
      }
    },
    {
      "cell_type": "code",
      "source": [
        "df.groupby(df[\"Forma de Envio\"])['Custo de Envio'].sum()"
      ],
      "metadata": {
        "colab": {
          "base_uri": "https://localhost:8080/"
        },
        "id": "qFcdhqPrm-j-",
        "outputId": "634d9215-68b5-4f60-d480-92bfda2ea31a"
      },
      "execution_count": 25,
      "outputs": [
        {
          "output_type": "execute_result",
          "data": {
            "text/plain": [
              "Forma de Envio\n",
              "Aéreo Normal             48008.19\n",
              "Aéreo Rápido              7850.91\n",
              "Transporte Rodoviário    51971.94\n",
              "Name: Custo de Envio, dtype: float64"
            ]
          },
          "metadata": {},
          "execution_count": 25
        }
      ]
    },
    {
      "cell_type": "code",
      "source": [
        "df.groupby(df[\"Forma de Envio\"])['Custo de Envio'].sum().sort_values(ascending=False).plot.pie();"
      ],
      "metadata": {
        "colab": {
          "base_uri": "https://localhost:8080/",
          "height": 248
        },
        "id": "NJBrjTDnxm4I",
        "outputId": "467438f8-5b08-4636-ae57-c183a1c6413c"
      },
      "execution_count": null,
      "outputs": [
        {
          "output_type": "display_data",
          "data": {
            "text/plain": [
              "<Figure size 432x288 with 1 Axes>"
            ],
            "image/png": "[encoded data removed]"
          },
          "metadata": {}
        }
      ]
    },
    {
      "cell_type": "markdown",
      "source": [
        "*   Prazo médio de envio"
      ],
      "metadata": {
        "id": "QHE50UgpeA7q"
      }
    },
    {
      "cell_type": "code",
      "source": [
        "#Calculando o tempo de envio em dias\n",
        "df[\"Tempo médio envio\"] = (df[\"Data de Envio\"] - df[\"Data da Venda\"]).dt.days"
      ],
      "metadata": {
        "id": "FNBukHm_nRWw"
      },
      "execution_count": 26,
      "outputs": []
    },
    {
      "cell_type": "code",
      "source": [
        "#Convertendo o campo Tempo médio para inteiro\n",
        "df[\"Tempo médio envio\"] = df[\"Tempo médio envio\"].astype(\"int\")"
      ],
      "metadata": {
        "id": "PKja-_HraeBn"
      },
      "execution_count": 27,
      "outputs": []
    },
    {
      "cell_type": "code",
      "source": [
        "#Listando dados estatisticos do envio\n",
        "print(f'Menor tempo de envio............: {df[\"Tempo médio envio\"].min()}')\n",
        "print(f'Maior tempo de envio............: {df[\"Tempo médio envio\"].max()}')\n",
        "print(f'Média tempo de envio............: {df[\"Tempo médio envio\"].mean():.2f}')\n",
        "print(f'Desvio padrão do tempo de envio.: {df[\"Tempo médio envio\"].std():.2f}')"
      ],
      "metadata": {
        "colab": {
          "base_uri": "https://localhost:8080/"
        },
        "id": "8FL6EBjfptrb",
        "outputId": "c722266c-9419-4a96-f093-d171f9c7122e"
      },
      "execution_count": 28,
      "outputs": [
        {
          "output_type": "stream",
          "name": "stdout",
          "text": [
            "Menor tempo de envio............: 0\n",
            "Maior tempo de envio............: 92\n",
            "Média tempo de envio............: 2.03\n",
            "Desvio padrão do tempo de envio.: 2.30\n"
          ]
        }
      ]
    },
    {
      "cell_type": "code",
      "source": [
        "#Como o maior tempo de envio foi muito discrepante, apliquei filtro para mostrar apenas meno ou igual a cinco\n",
        "df_clone = df.loc[(df[\"Tempo médio envio\"] <= 5)]"
      ],
      "metadata": {
        "id": "sWrfJa6mpiqy"
      },
      "execution_count": 34,
      "outputs": []
    },
    {
      "cell_type": "code",
      "source": [
        "plt.boxplot(df_clone[\"Tempo médio envio\"]);"
      ],
      "metadata": {
        "colab": {
          "base_uri": "https://localhost:8080/",
          "height": 265
        },
        "id": "TiRNXwIabrAK",
        "outputId": "447b294e-3b9d-4ee0-ae40-a7ceddb393cc"
      },
      "execution_count": 35,
      "outputs": [
        {
          "output_type": "display_data",
          "data": {
            "text/plain": [
              "<Figure size 432x288 with 1 Axes>"
            ],
            "image/png": "[encoded data removed]"
          },
          "metadata": {
            "needs_background": "light"
          }
        }
      ]
    },
    {
      "cell_type": "code",
      "source": [
        "#Lendo os registros com tempo médio maior que 5\n",
        "df_clone = df.loc[(df[\"Tempo médio envio\"] >= 5)]"
      ],
      "metadata": {
        "id": "KnNal3BvbY6f"
      },
      "execution_count": 40,
      "outputs": []
    },
    {
      "cell_type": "code",
      "source": [
        "df_clone.head()"
      ],
      "metadata": {
        "colab": {
          "base_uri": "https://localhost:8080/",
          "height": 612
        },
        "id": "Q6N8nRC8cr-f",
        "outputId": "f126379d-d4bb-4d96-aec1-c07b6ebaa582"
      },
      "execution_count": 43,
      "outputs": [
        {
          "output_type": "execute_result",
          "data": {
            "text/plain": [
              "   Data da Venda  Quantidade  Valor da Venda  Desconto Forma de Envio  \\\n",
              "18    2012-12-24          17         1121.83      0.04   Aéreo Normal   \n",
              "61    2012-12-09          39          112.71      0.05   Aéreo Normal   \n",
              "64    2012-12-11          41         1270.18      0.04   Aéreo Rápido   \n",
              "72    2012-12-09          48         1983.36      0.01   Aéreo Normal   \n",
              "82    2012-12-06          14         1113.28      0.08   Aéreo Normal   \n",
              "\n",
              "        Lucro  Preço Unitário  Custo de Envio Nome do Cliente          Cidade  \\\n",
              "18   657.6797           65.99            4.20     Joy Daniels          Loanda   \n",
              "61    42.3298            2.89            0.50   Bobby Trafton       São Paulo   \n",
              "64   437.7548           30.98           19.51    Carol Darley     João Pessoa   \n",
              "72  1498.6936           41.32            8.66   Bobby Trafton  Belo Horizonte   \n",
              "82   775.6272           79.52           48.20    Xylona Price       São Paulo   \n",
              "\n",
              "    ...    Região    País Segmento do Cliente    Categoria do Produto  \\\n",
              "18  ...       Sul  Brasil         Corporativo              Tecnologia   \n",
              "61  ...   Sudeste  Brasil         Corporativo  Material de Escritório   \n",
              "64  ...  Nordeste  Brasil   Pequenas Empresas  Material de Escritório   \n",
              "72  ...   Sudeste  Brasil         Corporativo              Mobiliário   \n",
              "82  ...   Sudeste  Brasil         Corporativo              Mobiliário   \n",
              "\n",
              "    Sub-Categoria do Produto  \\\n",
              "18   Telefones e Comunicação   \n",
              "61                 Etiquetas   \n",
              "64                 Envelopes   \n",
              "72  Mobiliário de Escritório   \n",
              "82  Mobiliário de Escritório   \n",
              "\n",
              "                                      Nome do Produto   Embalagem Margem  \\\n",
              "18                                               5170   Small Box   0.59   \n",
              "61                                          Avery 498   Small Box   0.38   \n",
              "64              Staples Colored Interoffice Envelopes   Small Box   0.36   \n",
              "72  Deflect-o EconoMat Studded, No Bevel Mat for L...  Medium Box   0.76   \n",
              "82  Eldon Cleatmat Plus™ Chair Mats for High Pile ...  Medium Box   0.74   \n",
              "\n",
              "   Data de Envio  Tempo médio envio  \n",
              "18    2012-12-29                  5  \n",
              "61    2012-12-18                  9  \n",
              "64    2012-12-18                  7  \n",
              "72    2012-12-16                  7  \n",
              "82    2012-12-13                  7  \n",
              "\n",
              "[5 rows x 22 columns]"
            ],
            "text/html": [
              "\n",
              "  <div id=\"df-619335ba-02a4-4966-80b8-665acd52dacd\">\n",
              "    <div class=\"colab-df-container\">\n",
              "      <div>\n",
              "<style scoped>\n",
              "    .dataframe tbody tr th:only-of-type {\n",
              "        vertical-align: middle;\n",
              "    }\n",
              "\n",
              "    .dataframe tbody tr th {\n",
              "        vertical-align: top;\n",
              "    }\n",
              "\n",
              "    .dataframe thead th {\n",
              "        text-align: right;\n",
              "    }\n",
              "</style>\n",
              "<table border=\"1\" class=\"dataframe\">\n",
              "  <thead>\n",
              "    <tr style=\"text-align: right;\">\n",
              "      <th></th>\n",
              "      <th>Data da Venda</th>\n",
              "      <th>Quantidade</th>\n",
              "      <th>Valor da Venda</th>\n",
              "      <th>Desconto</th>\n",
              "      <th>Forma de Envio</th>\n",
              "      <th>Lucro</th>\n",
              "      <th>Preço Unitário</th>\n",
              "      <th>Custo de Envio</th>\n",
              "      <th>Nome do Cliente</th>\n",
              "      <th>Cidade</th>\n",
              "      <th>...</th>\n",
              "      <th>Região</th>\n",
              "      <th>País</th>\n",
              "      <th>Segmento do Cliente</th>\n",
              "      <th>Categoria do Produto</th>\n",
              "      <th>Sub-Categoria do Produto</th>\n",
              "      <th>Nome do Produto</th>\n",
              "      <th>Embalagem</th>\n",
              "      <th>Margem</th>\n",
              "      <th>Data de Envio</th>\n",
              "      <th>Tempo médio envio</th>\n",
              "    </tr>\n",
              "  </thead>\n",
              "  <tbody>\n",
              "    <tr>\n",
              "      <th>18</th>\n",
              "      <td>2012-12-24</td>\n",
              "      <td>17</td>\n",
              "      <td>1121.83</td>\n",
              "      <td>0.04</td>\n",
              "      <td>Aéreo Normal</td>\n",
              "      <td>657.6797</td>\n",
              "      <td>65.99</td>\n",
              "      <td>4.20</td>\n",
              "      <td>Joy Daniels</td>\n",
              "      <td>Loanda</td>\n",
              "      <td>...</td>\n",
              "      <td>Sul</td>\n",
              "      <td>Brasil</td>\n",
              "      <td>Corporativo</td>\n",
              "      <td>Tecnologia</td>\n",
              "      <td>Telefones e Comunicação</td>\n",
              "      <td>5170</td>\n",
              "      <td>Small Box</td>\n",
              "      <td>0.59</td>\n",
              "      <td>2012-12-29</td>\n",
              "      <td>5</td>\n",
              "    </tr>\n",
              "    <tr>\n",
              "      <th>61</th>\n",
              "      <td>2012-12-09</td>\n",
              "      <td>39</td>\n",
              "      <td>112.71</td>\n",
              "      <td>0.05</td>\n",
              "      <td>Aéreo Normal</td>\n",
              "      <td>42.3298</td>\n",
              "      <td>2.89</td>\n",
              "      <td>0.50</td>\n",
              "      <td>Bobby Trafton</td>\n",
              "      <td>São Paulo</td>\n",
              "      <td>...</td>\n",
              "      <td>Sudeste</td>\n",
              "      <td>Brasil</td>\n",
              "      <td>Corporativo</td>\n",
              "      <td>Material de Escritório</td>\n",
              "      <td>Etiquetas</td>\n",
              "      <td>Avery 498</td>\n",
              "      <td>Small Box</td>\n",
              "      <td>0.38</td>\n",
              "      <td>2012-12-18</td>\n",
              "      <td>9</td>\n",
              "    </tr>\n",
              "    <tr>\n",
              "      <th>64</th>\n",
              "      <td>2012-12-11</td>\n",
              "      <td>41</td>\n",
              "      <td>1270.18</td>\n",
              "      <td>0.04</td>\n",
              "      <td>Aéreo Rápido</td>\n",
              "      <td>437.7548</td>\n",
              "      <td>30.98</td>\n",
              "      <td>19.51</td>\n",
              "      <td>Carol Darley</td>\n",
              "      <td>João Pessoa</td>\n",
              "      <td>...</td>\n",
              "      <td>Nordeste</td>\n",
              "      <td>Brasil</td>\n",
              "      <td>Pequenas Empresas</td>\n",
              "      <td>Material de Escritório</td>\n",
              "      <td>Envelopes</td>\n",
              "      <td>Staples Colored Interoffice Envelopes</td>\n",
              "      <td>Small Box</td>\n",
              "      <td>0.36</td>\n",
              "      <td>2012-12-18</td>\n",
              "      <td>7</td>\n",
              "    </tr>\n",
              "    <tr>\n",
              "      <th>72</th>\n",
              "      <td>2012-12-09</td>\n",
              "      <td>48</td>\n",
              "      <td>1983.36</td>\n",
              "      <td>0.01</td>\n",
              "      <td>Aéreo Normal</td>\n",
              "      <td>1498.6936</td>\n",
              "      <td>41.32</td>\n",
              "      <td>8.66</td>\n",
              "      <td>Bobby Trafton</td>\n",
              "      <td>Belo Horizonte</td>\n",
              "      <td>...</td>\n",
              "      <td>Sudeste</td>\n",
              "      <td>Brasil</td>\n",
              "      <td>Corporativo</td>\n",
              "      <td>Mobiliário</td>\n",
              "      <td>Mobiliário de Escritório</td>\n",
              "      <td>Deflect-o EconoMat Studded, No Bevel Mat for L...</td>\n",
              "      <td>Medium Box</td>\n",
              "      <td>0.76</td>\n",
              "      <td>2012-12-16</td>\n",
              "      <td>7</td>\n",
              "    </tr>\n",
              "    <tr>\n",
              "      <th>82</th>\n",
              "      <td>2012-12-06</td>\n",
              "      <td>14</td>\n",
              "      <td>1113.28</td>\n",
              "      <td>0.08</td>\n",
              "      <td>Aéreo Normal</td>\n",
              "      <td>775.6272</td>\n",
              "      <td>79.52</td>\n",
              "      <td>48.20</td>\n",
              "      <td>Xylona Price</td>\n",
              "      <td>São Paulo</td>\n",
              "      <td>...</td>\n",
              "      <td>Sudeste</td>\n",
              "      <td>Brasil</td>\n",
              "      <td>Corporativo</td>\n",
              "      <td>Mobiliário</td>\n",
              "      <td>Mobiliário de Escritório</td>\n",
              "      <td>Eldon Cleatmat Plus™ Chair Mats for High Pile ...</td>\n",
              "      <td>Medium Box</td>\n",
              "      <td>0.74</td>\n",
              "      <td>2012-12-13</td>\n",
              "      <td>7</td>\n",
              "    </tr>\n",
              "  </tbody>\n",
              "</table>\n",
              "<p>5 rows × 22 columns</p>\n",
              "</div>\n",
              "      <button class=\"colab-df-convert\" onclick=\"convertToInteractive('df-619335ba-02a4-4966-80b8-665acd52dacd')\"\n",
              "              title=\"Convert this dataframe to an interactive table.\"\n",
              "              style=\"display:none;\">\n",
              "        \n",
              "  <svg xmlns=\"http://www.w3.org/2000/svg\" height=\"24px\"viewBox=\"0 0 24 24\"\n",
              "       width=\"24px\">\n",
              "    <path d=\"M0 0h24v24H0V0z\" fill=\"none\"/>\n",
              "    <path d=\"M18.56 5.44l.94 2.06.94-2.06 2.06-.94-2.06-.94-.94-2.06-.94 2.06-2.06.94zm-11 1L8.5 8.5l.94-2.06 2.06-.94-2.06-.94L8.5 2.5l-.94 2.06-2.06.94zm10 10l.94 2.06.94-2.06 2.06-.94-2.06-.94-.94-2.06-.94 2.06-2.06.94z\"/><path d=\"M17.41 7.96l-1.37-1.37c-.4-.4-.92-.59-1.43-.59-.52 0-1.04.2-1.43.59L10.3 9.45l-7.72 7.72c-.78.78-.78 2.05 0 2.83L4 21.41c.39.39.9.59 1.41.59.51 0 1.02-.2 1.41-.59l7.78-7.78 2.81-2.81c.8-.78.8-2.07 0-2.86zM5.41 20L4 18.59l7.72-7.72 1.47 1.35L5.41 20z\"/>\n",
              "  </svg>\n",
              "      </button>\n",
              "      \n",
              "  <style>\n",
              "    .colab-df-container {\n",
              "      display:flex;\n",
              "      flex-wrap:wrap;\n",
              "      gap: 12px;\n",
              "    }\n",
              "\n",
              "    .colab-df-convert {\n",
              "      background-color: #E8F0FE;\n",
              "      border: none;\n",
              "      border-radius: 50%;\n",
              "      cursor: pointer;\n",
              "      display: none;\n",
              "      fill: #1967D2;\n",
              "      height: 32px;\n",
              "      padding: 0 0 0 0;\n",
              "      width: 32px;\n",
              "    }\n",
              "\n",
              "    .colab-df-convert:hover {\n",
              "      background-color: #E2EBFA;\n",
              "      box-shadow: 0px 1px 2px rgba(60, 64, 67, 0.3), 0px 1px 3px 1px rgba(60, 64, 67, 0.15);\n",
              "      fill: #174EA6;\n",
              "    }\n",
              "\n",
              "    [theme=dark] .colab-df-convert {\n",
              "      background-color: #3B4455;\n",
              "      fill: #D2E3FC;\n",
              "    }\n",
              "\n",
              "    [theme=dark] .colab-df-convert:hover {\n",
              "      background-color: #434B5C;\n",
              "      box-shadow: 0px 1px 3px 1px rgba(0, 0, 0, 0.15);\n",
              "      filter: drop-shadow(0px 1px 2px rgba(0, 0, 0, 0.3));\n",
              "      fill: #FFFFFF;\n",
              "    }\n",
              "  </style>\n",
              "\n",
              "      <script>\n",
              "        const buttonEl =\n",
              "          document.querySelector('#df-619335ba-02a4-4966-80b8-665acd52dacd button.colab-df-convert');\n",
              "        buttonEl.style.display =\n",
              "          google.colab.kernel.accessAllowed ? 'block' : 'none';\n",
              "\n",
              "        async function convertToInteractive(key) {\n",
              "          const element = document.querySelector('#df-619335ba-02a4-4966-80b8-665acd52dacd');\n",
              "          const dataTable =\n",
              "            await google.colab.kernel.invokeFunction('convertToInteractive',\n",
              "                                                     [key], {});\n",
              "          if (!dataTable) return;\n",
              "\n",
              "          const docLinkHtml = 'Like what you see? Visit the ' +\n",
              "            '<a target=\"_blank\" href=https://colab.research.google.com/notebooks/data_table.ipynb>data table notebook</a>'\n",
              "            + ' to learn more about interactive tables.';\n",
              "          element.innerHTML = '';\n",
              "          dataTable['output_type'] = 'display_data';\n",
              "          await google.colab.output.renderOutput(dataTable, element);\n",
              "          const docLink = document.createElement('div');\n",
              "          docLink.innerHTML = docLinkHtml;\n",
              "          element.appendChild(docLink);\n",
              "        }\n",
              "      </script>\n",
              "    </div>\n",
              "  </div>\n",
              "  "
            ]
          },
          "metadata": {},
          "execution_count": 43
        }
      ]
    },
    {
      "cell_type": "markdown",
      "source": [
        "*   Margem de lucro por produto"
      ],
      "metadata": {
        "id": "bjrrulS5jwv4"
      }
    },
    {
      "cell_type": "code",
      "source": [
        "#Clonando dataframe e agupando por Nome do Produto e somando os lucros\n",
        "df_margem_lucro = df.groupby(df[\"Nome do Produto\"])[\"Lucro\"].sum().reset_index()"
      ],
      "metadata": {
        "id": "SbCFjOLHens1"
      },
      "execution_count": 66,
      "outputs": []
    },
    {
      "cell_type": "code",
      "source": [
        "#Somando todos os lucros em lucro_total\n",
        "lucro_total = df_margem_lucro[\"Lucro\"].sum()"
      ],
      "metadata": {
        "id": "lCAxPBJZhFg4"
      },
      "execution_count": 83,
      "outputs": []
    },
    {
      "cell_type": "code",
      "source": [
        "#Calculando a margem por produto\n",
        "df_margem_lucro[\"Margem lucro\"] = (df_margem_lucro[\"Lucro\"] / lucro_total) * 100"
      ],
      "metadata": {
        "id": "y7cTkSloe-5R"
      },
      "execution_count": 84,
      "outputs": []
    },
    {
      "cell_type": "code",
      "source": [
        "#Apresentando os 10 produtos com maior margem de lucro\n",
        "df_margem_lucro.groupby(\"Nome do Produto\")[\"Margem lucro\"].sum().sort_values(ascending=False).head(10)"
      ],
      "metadata": {
        "colab": {
          "base_uri": "https://localhost:8080/"
        },
        "id": "Zfn16gujfo6Q",
        "outputId": "50fcde7a-af11-4443-9a0b-c93751feca62"
      },
      "execution_count": 85,
      "outputs": [
        {
          "output_type": "execute_result",
          "data": {
            "text/plain": [
              "Nome do Produto\n",
              "Global Troy™ Executive Leather Low-Back Tilter                       1.935172\n",
              "Riverside Palais Royal Lawyers Bookcase, Royale Cherry Finish        1.508364\n",
              "Bretford CR8500 Series Meeting Room Furniture                        1.299737\n",
              "Polycom ViewStation™ ISDN Videoconferencing Unit                     1.271965\n",
              "Canon PC940 Copier                                                   1.043305\n",
              "Hon 94000 Series Round Tables                                        0.996650\n",
              "BoxOffice By Design Rectangular and Half-Moon Meeting Room Tables    0.992103\n",
              "Chromcraft Bull-Nose Wood 48\" x 96\" Rectangular Conference Tables    0.966889\n",
              "Bretford CR4500 Series Slim Rectangular Table                        0.884503\n",
              "Hewlett Packard LaserJet 3310 Copier                                 0.868052\n",
              "Name: Margem lucro, dtype: float64"
            ]
          },
          "metadata": {},
          "execution_count": 85
        }
      ]
    },
    {
      "cell_type": "markdown",
      "source": [
        "*   Top 10 produtos vendidos em quantidade e venda"
      ],
      "metadata": {
        "id": "poefvTSglnse"
      }
    },
    {
      "cell_type": "code",
      "source": [
        "#Criando Dataframe para operar com os 10 produtos mais vendidos por valor\n",
        "df_top_produtos = df.groupby(\"Nome do Produto\")[\"Valor da Venda\"].sum().sort_values(ascending=False).head(10)"
      ],
      "metadata": {
        "id": "wzYwCahPm69_"
      },
      "execution_count": 90,
      "outputs": []
    },
    {
      "cell_type": "code",
      "source": [
        "#Criando gráfico de barras horizontais, valor da venda\n",
        "df_top_produtos.plot.barh(title=\"Total Produtos Vendidos: Valor da Venda\")\n",
        "plt.xlabel(\"Valor da Venda\")\n",
        "plt.ylabel(\"Produto\");"
      ],
      "metadata": {
        "colab": {
          "base_uri": "https://localhost:8080/",
          "height": 295
        },
        "id": "PF4EedHbnH6Q",
        "outputId": "ea30ee4c-9826-404b-ccfb-71bd11e3361d"
      },
      "execution_count": 93,
      "outputs": [
        {
          "output_type": "display_data",
          "data": {
            "text/plain": [
              "<Figure size 432x288 with 1 Axes>"
            ],
            "image/png": "[encoded data removed]"
          },
          "metadata": {
            "needs_background": "light"
          }
        }
      ]
    },
    {
      "cell_type": "code",
      "source": [
        "#Criando Dataframe para operar com os 10 produtos mais vendidos por quantidade\n",
        "df_top_produtos_qtde = df.groupby(\"Nome do Produto\")[\"Quantidade\"].sum().sort_values(ascending=False).head(10)"
      ],
      "metadata": {
        "id": "xagqbwrtnez8"
      },
      "execution_count": 96,
      "outputs": []
    },
    {
      "cell_type": "code",
      "source": [
        "#Criando gráfico de barras horizontais, quantidade\n",
        "df_top_produtos_qtde.plot.barh(title=\"Total Produtos Vendidos: Quantidade\")\n",
        "plt.xlabel(\"Quantidade\")\n",
        "plt.ylabel(\"Produto\");"
      ],
      "metadata": {
        "colab": {
          "base_uri": "https://localhost:8080/",
          "height": 295
        },
        "id": "LMGrMirJnsbw",
        "outputId": "a01ad9b8-db83-4866-9f0c-1a5a98f6a5f6"
      },
      "execution_count": 97,
      "outputs": [
        {
          "output_type": "display_data",
          "data": {
            "text/plain": [
              "<Figure size 432x288 with 1 Axes>"
            ],
            "image/png": "[encoded data removed]"
          },
          "metadata": {
            "needs_background": "light"
          }
        }
      ]
    }
  ]
}